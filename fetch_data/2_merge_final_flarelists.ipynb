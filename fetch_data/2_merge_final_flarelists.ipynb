{
 "cells": [
  {
   "cell_type": "code",
   "id": "initial_id",
   "metadata": {
    "collapsed": true,
    "ExecuteTime": {
     "end_time": "2025-10-23T07:49:15.790138Z",
     "start_time": "2025-10-23T07:49:15.300318Z"
    }
   },
   "source": [
    "import pandas as pd\n",
    "import glob\n",
    "import os"
   ],
   "outputs": [],
   "execution_count": 1
  },
  {
   "metadata": {
    "ExecuteTime": {
     "end_time": "2025-10-23T07:49:15.813555Z",
     "start_time": "2025-10-23T07:49:15.802812Z"
    }
   },
   "cell_type": "code",
   "source": [
    "input_path = '../output/5_final_flarelist'\n",
    "output_path = '../output/6_merged'\n"
   ],
   "id": "9f1d753c15414822",
   "outputs": [],
   "execution_count": 2
  },
  {
   "metadata": {
    "ExecuteTime": {
     "end_time": "2025-10-23T07:49:16.197334Z",
     "start_time": "2025-10-23T07:49:16.177606Z"
    }
   },
   "cell_type": "code",
   "source": [
    "csv_files = glob.glob(os.path.join(input_path, \"*.csv\"))\n",
    "csv_files\n"
   ],
   "id": "2774d3c9c6946d28",
   "outputs": [
    {
     "data": {
      "text/plain": [
       "['output/5_final_flarelist\\\\stix_flarelist_final_20210214_20211229.csv',\n",
       " 'output/5_final_flarelist\\\\stix_flarelist_final_20220101_20221230.csv',\n",
       " 'output/5_final_flarelist\\\\stix_flarelist_final_20230101_20231230.csv',\n",
       " 'output/5_final_flarelist\\\\stix_flarelist_final_20240101_20241230.csv',\n",
       " 'output/5_final_flarelist\\\\stix_flarelist_final_20250101_20251005.csv']"
      ]
     },
     "execution_count": 3,
     "metadata": {},
     "output_type": "execute_result"
    }
   ],
   "execution_count": 3
  },
  {
   "metadata": {
    "ExecuteTime": {
     "end_time": "2025-10-23T07:50:45.104352Z",
     "start_time": "2025-10-23T07:50:41.593175Z"
    }
   },
   "cell_type": "code",
   "source": [
    "merged_df = pd.concat((pd.read_csv(f) for f in csv_files), ignore_index=True)\n",
    "merged_df.to_csv(os.path.join(output_path, \"stix_flarelist_final_20210214_20251005.csv\"), index=False)"
   ],
   "id": "b42a6d5916e12fc6",
   "outputs": [],
   "execution_count": 4
  },
  {
   "metadata": {},
   "cell_type": "code",
   "outputs": [],
   "execution_count": null,
   "source": "",
   "id": "bd57141880fe19fc"
  }
 ],
 "metadata": {
  "kernelspec": {
   "display_name": "Python 3",
   "language": "python",
   "name": "python3"
  },
  "language_info": {
   "codemirror_mode": {
    "name": "ipython",
    "version": 2
   },
   "file_extension": ".py",
   "mimetype": "text/x-python",
   "name": "python",
   "nbconvert_exporter": "python",
   "pygments_lexer": "ipython2",
   "version": "2.7.6"
  }
 },
 "nbformat": 4,
 "nbformat_minor": 5
}
