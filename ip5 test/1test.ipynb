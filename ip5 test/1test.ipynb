{
 "cells": [
  {
   "cell_type": "code",
   "execution_count": null,
   "id": "fa75c1ba",
   "metadata": {},
   "outputs": [
    {
     "ename": "ModuleNotFoundError",
     "evalue": "No module named 'flarelist_coord_utils'",
     "output_type": "error",
     "traceback": [
      "\u001B[31m---------------------------------------------------------------------------\u001B[39m",
      "\u001B[31mModuleNotFoundError\u001B[39m                       Traceback (most recent call last)",
      "\u001B[36mCell\u001B[39m\u001B[36m \u001B[39m\u001B[32mIn[2]\u001B[39m\u001B[32m, line 5\u001B[39m\n\u001B[32m      2\u001B[39m sys.path.append(\u001B[33m'\u001B[39m\u001B[33m..\u001B[39m\u001B[33m'\u001B[39m)\n\u001B[32m      4\u001B[39m \u001B[38;5;28;01mfrom\u001B[39;00m\u001B[38;5;250m \u001B[39m\u001B[34;01mastropy\u001B[39;00m\u001B[34;01m.\u001B[39;00m\u001B[34;01mtime\u001B[39;00m\u001B[38;5;250m \u001B[39m\u001B[38;5;28;01mimport\u001B[39;00m Time\n\u001B[32m----> \u001B[39m\u001B[32m5\u001B[39m \u001B[38;5;28;01mimport\u001B[39;00m\u001B[38;5;250m \u001B[39m\u001B[34;01mgenerate_flarelist_python\u001B[39;00m\u001B[34;01m.\u001B[39;00m\u001B[34;01mflarelist_generate\u001B[39;00m\u001B[38;5;250m \u001B[39m\u001B[38;5;28;01mas\u001B[39;00m\u001B[38;5;250m \u001B[39m\u001B[34;01mfg\u001B[39;00m\n\u001B[32m      6\u001B[39m \u001B[38;5;28;01mimport\u001B[39;00m\u001B[38;5;250m \u001B[39m\u001B[34;01mgenerate_flarelist_python\u001B[39;00m\u001B[34;01m.\u001B[39;00m\u001B[34;01mflarelist_generate_utils\u001B[39;00m\u001B[38;5;250m \u001B[39m\u001B[38;5;28;01mas\u001B[39;00m\u001B[38;5;250m \u001B[39m\u001B[34;01mgu\u001B[39;00m\n\u001B[32m      7\u001B[39m \u001B[38;5;28;01mimport\u001B[39;00m\u001B[38;5;250m \u001B[39m\u001B[34;01mgenerate_flarelist_python\u001B[39;00m\u001B[34;01m.\u001B[39;00m\u001B[34;01mflarelist_coord_utils\u001B[39;00m\u001B[38;5;250m \u001B[39m\u001B[38;5;28;01mas\u001B[39;00m\u001B[38;5;250m \u001B[39m\u001B[34;01mfcu\u001B[39;00m\n",
      "\u001B[36mFile \u001B[39m\u001B[32mc:\\Users\\Erhan\\ip5\\ip5 test\\..\\generate_flarelist_python\\flarelist_generate.py:22\u001B[39m\n\u001B[32m     19\u001B[39m \u001B[38;5;28;01mimport\u001B[39;00m\u001B[38;5;250m \u001B[39m\u001B[34;01mre\u001B[39;00m\n\u001B[32m     20\u001B[39m \u001B[38;5;28;01mfrom\u001B[39;00m\u001B[38;5;250m \u001B[39m\u001B[34;01mdatetime\u001B[39;00m\u001B[38;5;250m \u001B[39m\u001B[38;5;28;01mimport\u001B[39;00m datetime\n\u001B[32m---> \u001B[39m\u001B[32m22\u001B[39m \u001B[38;5;28;01mfrom\u001B[39;00m\u001B[38;5;250m \u001B[39m\u001B[34;01mflarelist_coord_utils\u001B[39;00m\u001B[38;5;250m \u001B[39m\u001B[38;5;28;01mimport\u001B[39;00m is_visible\n\u001B[32m     23\u001B[39m \u001B[38;5;28;01mfrom\u001B[39;00m\u001B[38;5;250m \u001B[39m\u001B[34;01mflarelist_generate_utils\u001B[39;00m\u001B[38;5;250m \u001B[39m\u001B[38;5;28;01mimport\u001B[39;00m find_matching_files, search_remote_data\n\u001B[32m     24\u001B[39m \u001B[38;5;28;01mfrom\u001B[39;00m\u001B[38;5;250m \u001B[39m\u001B[34;01mstx_estimate_flare_location\u001B[39;00m\u001B[38;5;250m \u001B[39m\u001B[38;5;28;01mimport\u001B[39;00m stx_estimate_flare_location\n",
      "\u001B[31mModuleNotFoundError\u001B[39m: No module named 'flarelist_coord_utils'"
     ]
    }
   ],
   "source": [
    "import sys\n",
    "sys.path.append('..')\n",
    "\n",
    "from astropy.time import Time\n",
    "import generate_flarelist_python.flarelist_generate import *\n",
    "from generate_flarelist_python.flarelist_generate_utils import *\n",
    "from generate_flarelist_python.flarelist_coord_utils import *\n"
   ]
  },
  {
   "cell_type": "code",
   "execution_count": null,
   "id": "91a6e323",
   "metadata": {},
   "outputs": [
    {
     "name": "stdout",
     "output_type": "stream",
     "text": [
      "Total flares: 25218\n",
      "Flares with error: 68\n",
      "Error rate: 0.27%\n"
     ]
    }
   ],
   "source": [
    "df = pd.read_csv('../STIX_flarelist_w_locations_20210214_20250228_version1_python.csv')\n",
    "n_flares = len(df)\n",
    "n_flares\n",
    "n_flares_error = len(df[df['error_with_imaging'] == True])\n",
    "n_flares_error\n",
    "\n",
    "error_rate = n_flares_error / n_flares\n",
    "print(f\"Total flares: {n_flares}\")\n",
    "print(f\"Flares with error: {n_flares_error}\")\n",
    "print(f\"Error rate: {error_rate:.2%}\")"
   ]
  },
  {
   "cell_type": "code",
   "execution_count": null,
   "id": "7c49d9ce",
   "metadata": {},
   "outputs": [
    {
     "name": "stdout",
     "output_type": "stream",
     "text": [
      "Flares with sidelobes ratio > 0.88: 3879\n",
      "flares with bad location estimation ratio: 0.15381870092790864\n"
     ]
    }
   ],
   "source": [
    "threshold = 0.02\n",
    "quality_threshold = 0.9\n",
    "\n",
    "n_flares_sub_quality = len(df[df['sidelobes_ratio'] > quality_threshold - threshold])\n",
    "print(f\"Flares with sidelobes ratio > {quality_threshold - threshold}: {n_flares_sub_quality}\")\n",
    "print(f\"flares with bad location estimation ratio: {n_flares_sub_quality / n_flares}\")"
   ]
  },
  {
   "cell_type": "code",
   "execution_count": null,
   "id": "d920dd0d",
   "metadata": {},
   "outputs": [
    {
     "name": "stderr",
     "output_type": "stream",
     "text": [
      "2025-10-05 20:22:40 - root - INFO: Retrieving and processing flares between 2024-10-01 00:00:00.000 and 2024-10-02 00:00:00.000\n",
      "2025-10-05 20:22:40 - root - INFO: Fetching flare list from Data Center...\n",
      "2025-10-05 20:22:42 - root - INFO: Fetched 79 flares from 2024-10-01 00:00:00.000 to 2024-10-02 00:00:00.000\n",
      "2025-10-05 20:22:42 - root - INFO: Filtering flare list and associating data files\n",
      "2025-10-05 20:22:42 - root - INFO: Processed flare to find files 1/77\n",
      "2025-10-05 20:22:42 - root - INFO: Processed flare to find files 2/77\n",
      "2025-10-05 20:22:42 - root - INFO: Processed flare to find files 3/77\n",
      "2025-10-05 20:22:42 - root - INFO: Processed flare to find files 4/77\n",
      "2025-10-05 20:22:42 - root - INFO: Processed flare to find files 5/77\n",
      "2025-10-05 20:22:42 - root - INFO: Processed flare to find files 6/77\n",
      "2025-10-05 20:22:42 - root - INFO: Processed flare to find files 7/77\n",
      "2025-10-05 20:22:42 - root - INFO: Processed flare to find files 8/77\n",
      "2025-10-05 20:22:42 - root - INFO: Processed flare to find files 9/77\n",
      "2025-10-05 20:22:43 - root - INFO: Processed flare to find files 10/77\n",
      "2025-10-05 20:22:43 - root - INFO: Processed flare to find files 11/77\n",
      "2025-10-05 20:22:43 - root - INFO: Processed flare to find files 12/77\n",
      "2025-10-05 20:22:43 - root - INFO: Processed flare to find files 13/77\n",
      "2025-10-05 20:22:43 - root - INFO: Processed flare to find files 14/77\n",
      "2025-10-05 20:22:43 - root - INFO: Processed flare to find files 15/77\n",
      "2025-10-05 20:22:43 - root - INFO: Processed flare to find files 16/77\n",
      "2025-10-05 20:22:43 - root - INFO: Processed flare to find files 17/77\n",
      "2025-10-05 20:22:43 - root - INFO: Processed flare to find files 18/77\n",
      "2025-10-05 20:22:43 - root - INFO: Processed flare to find files 19/77\n",
      "2025-10-05 20:22:43 - root - INFO: Processed flare to find files 20/77\n",
      "2025-10-05 20:22:43 - root - INFO: Processed flare to find files 21/77\n",
      "2025-10-05 20:22:43 - root - INFO: Processed flare to find files 22/77\n",
      "2025-10-05 20:22:43 - root - INFO: Processed flare to find files 23/77\n",
      "2025-10-05 20:22:43 - root - INFO: Processed flare to find files 24/77\n",
      "2025-10-05 20:22:43 - root - INFO: Processed flare to find files 25/77\n",
      "2025-10-05 20:22:43 - root - INFO: Processed flare to find files 26/77\n",
      "2025-10-05 20:22:44 - root - INFO: Processed flare to find files 27/77\n",
      "2025-10-05 20:22:44 - root - INFO: Processed flare to find files 28/77\n",
      "2025-10-05 20:22:44 - root - INFO: Processed flare to find files 29/77\n",
      "2025-10-05 20:22:44 - root - INFO: Processed flare to find files 30/77\n",
      "2025-10-05 20:22:44 - root - INFO: Processed flare to find files 31/77\n",
      "2025-10-05 20:22:44 - root - INFO: Processed flare to find files 32/77\n",
      "2025-10-05 20:22:44 - root - INFO: Processed flare to find files 33/77\n",
      "2025-10-05 20:22:44 - root - INFO: Processed flare to find files 34/77\n",
      "2025-10-05 20:22:44 - root - INFO: Processed flare to find files 35/77\n",
      "2025-10-05 20:22:44 - root - INFO: Processed flare to find files 36/77\n",
      "2025-10-05 20:22:44 - root - INFO: Processed flare to find files 37/77\n",
      "2025-10-05 20:22:44 - root - INFO: Processed flare to find files 38/77\n",
      "2025-10-05 20:22:44 - root - INFO: Processed flare to find files 39/77\n",
      "2025-10-05 20:22:44 - root - INFO: Processed flare to find files 40/77\n",
      "2025-10-05 20:22:44 - root - INFO: Processed flare to find files 41/77\n",
      "2025-10-05 20:22:44 - root - INFO: Processed flare to find files 42/77\n",
      "2025-10-05 20:22:44 - root - INFO: Processed flare to find files 43/77\n",
      "2025-10-05 20:22:44 - root - INFO: Processed flare to find files 44/77\n",
      "2025-10-05 20:22:44 - root - INFO: Processed flare to find files 45/77\n",
      "2025-10-05 20:22:44 - root - INFO: Processed flare to find files 46/77\n",
      "2025-10-05 20:22:45 - root - INFO: Processed flare to find files 47/77\n",
      "2025-10-05 20:22:45 - root - INFO: Processed flare to find files 48/77\n",
      "2025-10-05 20:22:45 - root - INFO: Processed flare to find files 49/77\n",
      "2025-10-05 20:22:45 - root - INFO: Processed flare to find files 50/77\n",
      "2025-10-05 20:22:45 - root - INFO: Processed flare to find files 51/77\n",
      "2025-10-05 20:22:45 - root - INFO: Processed flare to find files 52/77\n",
      "2025-10-05 20:22:45 - root - INFO: Processed flare to find files 53/77\n",
      "2025-10-05 20:22:45 - root - INFO: Processed flare to find files 54/77\n",
      "2025-10-05 20:22:45 - root - INFO: Processed flare to find files 55/77\n",
      "2025-10-05 20:22:45 - root - INFO: Processed flare to find files 56/77\n",
      "2025-10-05 20:22:45 - root - INFO: Processed flare to find files 57/77\n",
      "2025-10-05 20:22:45 - root - INFO: Processed flare to find files 58/77\n",
      "2025-10-05 20:22:45 - root - INFO: Processed flare to find files 59/77\n",
      "2025-10-05 20:22:45 - root - INFO: Processed flare to find files 60/77\n",
      "2025-10-05 20:22:45 - root - INFO: Processed flare to find files 61/77\n",
      "2025-10-05 20:22:46 - root - INFO: Processed flare to find files 62/77\n",
      "2025-10-05 20:22:46 - root - INFO: Processed flare to find files 63/77\n",
      "2025-10-05 20:22:46 - root - INFO: Processed flare to find files 64/77\n",
      "2025-10-05 20:22:46 - root - INFO: Processed flare to find files 65/77\n",
      "2025-10-05 20:22:46 - root - INFO: Processed flare to find files 66/77\n",
      "2025-10-05 20:22:46 - root - INFO: Processed flare to find files 67/77\n",
      "2025-10-05 20:22:46 - root - INFO: Processed flare to find files 68/77\n",
      "2025-10-05 20:22:46 - root - INFO: Processed flare to find files 69/77\n",
      "2025-10-05 20:22:46 - root - INFO: Processed flare to find files 70/77\n",
      "2025-10-05 20:22:46 - root - INFO: Processed flare to find files 71/77\n",
      "2025-10-05 20:22:46 - root - INFO: Processed flare to find files 72/77\n",
      "2025-10-05 20:22:46 - root - INFO: Processed flare to find files 73/77\n",
      "2025-10-05 20:22:46 - root - INFO: Processed flare to find files 74/77\n",
      "2025-10-05 20:22:46 - root - INFO: Processed flare to find files 75/77\n",
      "2025-10-05 20:22:46 - root - INFO: Processed flare to find files 76/77\n",
      "2025-10-05 20:22:46 - root - INFO: Processed flare to find files 77/77\n",
      "c:\\Users\\Erhan\\ip5\\ip5 test\\..\\generate_flarelist_python\\flarelist_generate.py:131: SettingWithCopyWarning: \n",
      "A value is trying to be set on a copy of a slice from a DataFrame.\n",
      "Try using .loc[row_indexer,col_indexer] = value instead\n",
      "\n",
      "See the caveats in the documentation: https://pandas.pydata.org/pandas-docs/stable/user_guide/indexing.html#returning-a-view-versus-a-copy\n",
      "  flarelist_gt_1000[\"filenames\"] = file_names\n",
      "2025-10-05 20:22:46 - root - INFO: Estimating flare locations and attenuator status...\n"
     ]
    },
    {
     "name": "stdout",
     "output_type": "stream",
     "text": [
      "False\n",
      "estimating flare location\n"
     ]
    },
    {
     "name": "stderr",
     "output_type": "stream",
     "text": [
      "2025-10-05 20:22:50 - root - ERROR: Error processing flare 0: too many values to unpack (expected 2)\n"
     ]
    },
    {
     "name": "stdout",
     "output_type": "stream",
     "text": [
      "False\n",
      "estimating flare location\n"
     ]
    },
    {
     "name": "stderr",
     "output_type": "stream",
     "text": [
      "2025-10-05 20:22:51 - root - ERROR: Error processing flare 1: too many values to unpack (expected 2)\n"
     ]
    },
    {
     "name": "stdout",
     "output_type": "stream",
     "text": [
      "False\n",
      "estimating flare location\n"
     ]
    },
    {
     "name": "stderr",
     "output_type": "stream",
     "text": [
      "2025-10-05 20:22:53 - root - ERROR: Error processing flare 2: too many values to unpack (expected 2)\n"
     ]
    },
    {
     "name": "stdout",
     "output_type": "stream",
     "text": [
      "False\n",
      "estimating flare location\n"
     ]
    },
    {
     "name": "stderr",
     "output_type": "stream",
     "text": [
      "2025-10-05 20:22:55 - root - ERROR: Error processing flare 3: too many values to unpack (expected 2)\n",
      "2025-10-05 20:22:55 - root - ERROR: Error processing flare 4: too many values to unpack (expected 2)\n"
     ]
    },
    {
     "name": "stdout",
     "output_type": "stream",
     "text": [
      "False\n",
      "estimating flare location\n"
     ]
    },
    {
     "name": "stderr",
     "output_type": "stream",
     "text": [
      "2025-10-05 20:22:56 - root - ERROR: Error processing flare 5: too many values to unpack (expected 2)\n"
     ]
    },
    {
     "name": "stdout",
     "output_type": "stream",
     "text": [
      "False\n",
      "estimating flare location\n"
     ]
    },
    {
     "name": "stderr",
     "output_type": "stream",
     "text": [
      "2025-10-05 20:22:56 - root - ERROR: Error processing flare 6: too many values to unpack (expected 2)\n"
     ]
    },
    {
     "name": "stdout",
     "output_type": "stream",
     "text": [
      "False\n",
      "estimating flare location\n",
      "False\n",
      "estimating flare location\n"
     ]
    },
    {
     "name": "stderr",
     "output_type": "stream",
     "text": [
      "2025-10-05 20:22:56 - root - ERROR: Error processing flare 7: too many values to unpack (expected 2)\n",
      "2025-10-05 20:22:56 - root - ERROR: Error processing flare 8: too many values to unpack (expected 2)\n"
     ]
    },
    {
     "name": "stdout",
     "output_type": "stream",
     "text": [
      "False\n",
      "estimating flare location\n"
     ]
    },
    {
     "name": "stderr",
     "output_type": "stream",
     "text": [
      "2025-10-05 20:22:57 - root - ERROR: Error processing flare 9: too many values to unpack (expected 2)\n"
     ]
    },
    {
     "name": "stdout",
     "output_type": "stream",
     "text": [
      "False\n",
      "estimating flare location\n"
     ]
    },
    {
     "name": "stderr",
     "output_type": "stream",
     "text": [
      "2025-10-05 20:22:57 - root - ERROR: Error processing flare 10: too many values to unpack (expected 2)\n"
     ]
    },
    {
     "name": "stdout",
     "output_type": "stream",
     "text": [
      "False\n",
      "estimating flare location\n"
     ]
    },
    {
     "name": "stderr",
     "output_type": "stream",
     "text": [
      "2025-10-05 20:22:57 - root - ERROR: Error processing flare 11: too many values to unpack (expected 2)\n"
     ]
    },
    {
     "name": "stdout",
     "output_type": "stream",
     "text": [
      "False\n",
      "estimating flare location\n"
     ]
    },
    {
     "name": "stderr",
     "output_type": "stream",
     "text": [
      "2025-10-05 20:22:58 - root - ERROR: Error processing flare 12: too many values to unpack (expected 2)\n"
     ]
    },
    {
     "name": "stdout",
     "output_type": "stream",
     "text": [
      "False\n",
      "estimating flare location\n"
     ]
    },
    {
     "name": "stderr",
     "output_type": "stream",
     "text": [
      "2025-10-05 20:22:58 - root - ERROR: Error processing flare 13: too many values to unpack (expected 2)\n"
     ]
    },
    {
     "name": "stdout",
     "output_type": "stream",
     "text": [
      "False\n",
      "estimating flare location\n"
     ]
    },
    {
     "name": "stderr",
     "output_type": "stream",
     "text": [
      "2025-10-05 20:22:58 - root - ERROR: Error processing flare 14: too many values to unpack (expected 2)\n"
     ]
    },
    {
     "name": "stdout",
     "output_type": "stream",
     "text": [
      "False\n",
      "estimating flare location\n"
     ]
    },
    {
     "name": "stderr",
     "output_type": "stream",
     "text": [
      "2025-10-05 20:22:58 - root - ERROR: Error processing flare 15: too many values to unpack (expected 2)\n"
     ]
    },
    {
     "name": "stdout",
     "output_type": "stream",
     "text": [
      "False\n",
      "estimating flare location\n"
     ]
    },
    {
     "name": "stderr",
     "output_type": "stream",
     "text": [
      "2025-10-05 20:22:59 - root - ERROR: Error processing flare 16: too many values to unpack (expected 2)\n"
     ]
    },
    {
     "name": "stdout",
     "output_type": "stream",
     "text": [
      "False\n",
      "estimating flare location\n"
     ]
    },
    {
     "name": "stderr",
     "output_type": "stream",
     "text": [
      "2025-10-05 20:22:59 - root - ERROR: Error processing flare 17: too many values to unpack (expected 2)\n"
     ]
    },
    {
     "name": "stdout",
     "output_type": "stream",
     "text": [
      "False\n",
      "estimating flare location\n"
     ]
    },
    {
     "name": "stderr",
     "output_type": "stream",
     "text": [
      "2025-10-05 20:22:59 - root - ERROR: Error processing flare 18: too many values to unpack (expected 2)\n"
     ]
    },
    {
     "name": "stdout",
     "output_type": "stream",
     "text": [
      "False\n",
      "estimating flare location\n"
     ]
    },
    {
     "name": "stderr",
     "output_type": "stream",
     "text": [
      "2025-10-05 20:22:59 - root - ERROR: Error processing flare 19: too many values to unpack (expected 2)\n"
     ]
    },
    {
     "name": "stdout",
     "output_type": "stream",
     "text": [
      "False\n",
      "estimating flare location\n"
     ]
    },
    {
     "name": "stderr",
     "output_type": "stream",
     "text": [
      "2025-10-05 20:23:00 - root - ERROR: Error processing flare 20: too many values to unpack (expected 2)\n"
     ]
    },
    {
     "name": "stdout",
     "output_type": "stream",
     "text": [
      "False\n",
      "estimating flare location\n"
     ]
    },
    {
     "name": "stderr",
     "output_type": "stream",
     "text": [
      "2025-10-05 20:23:00 - root - ERROR: Error processing flare 21: too many values to unpack (expected 2)\n"
     ]
    },
    {
     "name": "stdout",
     "output_type": "stream",
     "text": [
      "False\n",
      "estimating flare location\n"
     ]
    },
    {
     "name": "stderr",
     "output_type": "stream",
     "text": [
      "2025-10-05 20:23:00 - root - ERROR: Error processing flare 22: too many values to unpack (expected 2)\n"
     ]
    },
    {
     "name": "stdout",
     "output_type": "stream",
     "text": [
      "False\n",
      "estimating flare location\n"
     ]
    },
    {
     "name": "stderr",
     "output_type": "stream",
     "text": [
      "2025-10-05 20:23:00 - root - ERROR: Error processing flare 23: too many values to unpack (expected 2)\n"
     ]
    },
    {
     "name": "stdout",
     "output_type": "stream",
     "text": [
      "False\n",
      "estimating flare location\n"
     ]
    },
    {
     "name": "stderr",
     "output_type": "stream",
     "text": [
      "2025-10-05 20:23:01 - root - ERROR: Error processing flare 24: too many values to unpack (expected 2)\n"
     ]
    },
    {
     "name": "stdout",
     "output_type": "stream",
     "text": [
      "False\n",
      "estimating flare location\n"
     ]
    },
    {
     "name": "stderr",
     "output_type": "stream",
     "text": [
      "2025-10-05 20:23:01 - root - ERROR: Error processing flare 25: too many values to unpack (expected 2)\n"
     ]
    },
    {
     "name": "stdout",
     "output_type": "stream",
     "text": [
      "False\n",
      "estimating flare location\n"
     ]
    },
    {
     "name": "stderr",
     "output_type": "stream",
     "text": [
      "2025-10-05 20:23:01 - root - ERROR: Error processing flare 26: too many values to unpack (expected 2)\n"
     ]
    },
    {
     "name": "stdout",
     "output_type": "stream",
     "text": [
      "False\n",
      "estimating flare location\n"
     ]
    },
    {
     "name": "stderr",
     "output_type": "stream",
     "text": [
      "2025-10-05 20:23:01 - root - ERROR: Error processing flare 27: too many values to unpack (expected 2)\n"
     ]
    },
    {
     "name": "stdout",
     "output_type": "stream",
     "text": [
      "False\n",
      "estimating flare location\n"
     ]
    },
    {
     "name": "stderr",
     "output_type": "stream",
     "text": [
      "2025-10-05 20:23:02 - root - ERROR: Error processing flare 28: too many values to unpack (expected 2)\n"
     ]
    },
    {
     "name": "stdout",
     "output_type": "stream",
     "text": [
      "False\n",
      "estimating flare location\n"
     ]
    },
    {
     "name": "stderr",
     "output_type": "stream",
     "text": [
      "2025-10-05 20:23:02 - root - ERROR: Error processing flare 29: too many values to unpack (expected 2)\n"
     ]
    },
    {
     "name": "stdout",
     "output_type": "stream",
     "text": [
      "False\n",
      "estimating flare location\n"
     ]
    },
    {
     "name": "stderr",
     "output_type": "stream",
     "text": [
      "2025-10-05 20:23:02 - root - ERROR: Error processing flare 30: too many values to unpack (expected 2)\n"
     ]
    },
    {
     "name": "stdout",
     "output_type": "stream",
     "text": [
      "False\n",
      "estimating flare location\n"
     ]
    },
    {
     "name": "stderr",
     "output_type": "stream",
     "text": [
      "2025-10-05 20:23:02 - root - ERROR: Error processing flare 31: too many values to unpack (expected 2)\n"
     ]
    },
    {
     "name": "stdout",
     "output_type": "stream",
     "text": [
      "False\n",
      "estimating flare location\n"
     ]
    },
    {
     "name": "stderr",
     "output_type": "stream",
     "text": [
      "2025-10-05 20:23:03 - root - ERROR: Error processing flare 32: too many values to unpack (expected 2)\n"
     ]
    },
    {
     "name": "stdout",
     "output_type": "stream",
     "text": [
      "False\n",
      "estimating flare location\n"
     ]
    },
    {
     "name": "stderr",
     "output_type": "stream",
     "text": [
      "2025-10-05 20:23:03 - root - ERROR: Error processing flare 33: too many values to unpack (expected 2)\n"
     ]
    },
    {
     "name": "stdout",
     "output_type": "stream",
     "text": [
      "False\n",
      "estimating flare location\n"
     ]
    },
    {
     "name": "stderr",
     "output_type": "stream",
     "text": [
      "2025-10-05 20:23:03 - root - ERROR: Error processing flare 34: too many values to unpack (expected 2)\n"
     ]
    },
    {
     "name": "stdout",
     "output_type": "stream",
     "text": [
      "False\n",
      "estimating flare location\n"
     ]
    },
    {
     "name": "stderr",
     "output_type": "stream",
     "text": [
      "2025-10-05 20:23:03 - root - ERROR: Error processing flare 35: too many values to unpack (expected 2)\n"
     ]
    },
    {
     "name": "stdout",
     "output_type": "stream",
     "text": [
      "False\n",
      "estimating flare location\n"
     ]
    },
    {
     "name": "stderr",
     "output_type": "stream",
     "text": [
      "2025-10-05 20:23:04 - root - ERROR: Error processing flare 36: too many values to unpack (expected 2)\n"
     ]
    },
    {
     "name": "stdout",
     "output_type": "stream",
     "text": [
      "False\n",
      "estimating flare location\n"
     ]
    },
    {
     "name": "stderr",
     "output_type": "stream",
     "text": [
      "2025-10-05 20:23:04 - root - ERROR: Error processing flare 37: too many values to unpack (expected 2)\n"
     ]
    },
    {
     "name": "stdout",
     "output_type": "stream",
     "text": [
      "False\n",
      "estimating flare location\n"
     ]
    },
    {
     "name": "stderr",
     "output_type": "stream",
     "text": [
      "2025-10-05 20:23:04 - root - ERROR: Error processing flare 38: too many values to unpack (expected 2)\n"
     ]
    },
    {
     "name": "stdout",
     "output_type": "stream",
     "text": [
      "False\n",
      "estimating flare location\n",
      "False\n",
      "estimating flare location\n"
     ]
    },
    {
     "name": "stderr",
     "output_type": "stream",
     "text": [
      "2025-10-05 20:23:06 - root - ERROR: Error processing flare 39: too many values to unpack (expected 2)\n"
     ]
    },
    {
     "name": "stdout",
     "output_type": "stream",
     "text": [
      "False\n",
      "estimating flare location\n"
     ]
    },
    {
     "name": "stderr",
     "output_type": "stream",
     "text": [
      "2025-10-05 20:23:07 - root - ERROR: Error processing flare 40: too many values to unpack (expected 2)\n"
     ]
    },
    {
     "name": "stdout",
     "output_type": "stream",
     "text": [
      "False\n",
      "estimating flare location\n"
     ]
    },
    {
     "name": "stderr",
     "output_type": "stream",
     "text": [
      "2025-10-05 20:23:09 - root - ERROR: Error processing flare 41: too many values to unpack (expected 2)\n"
     ]
    },
    {
     "name": "stdout",
     "output_type": "stream",
     "text": [
      "False\n",
      "estimating flare location\n"
     ]
    },
    {
     "name": "stderr",
     "output_type": "stream",
     "text": [
      "2025-10-05 20:23:10 - root - ERROR: Error processing flare 42: too many values to unpack (expected 2)\n"
     ]
    },
    {
     "name": "stdout",
     "output_type": "stream",
     "text": [
      "False\n",
      "estimating flare location\n"
     ]
    },
    {
     "name": "stderr",
     "output_type": "stream",
     "text": [
      "2025-10-05 20:23:11 - root - ERROR: Error processing flare 43: too many values to unpack (expected 2)\n"
     ]
    },
    {
     "name": "stdout",
     "output_type": "stream",
     "text": [
      "False\n",
      "estimating flare location\n"
     ]
    },
    {
     "name": "stderr",
     "output_type": "stream",
     "text": [
      "2025-10-05 20:23:13 - root - ERROR: Error processing flare 44: too many values to unpack (expected 2)\n"
     ]
    },
    {
     "name": "stdout",
     "output_type": "stream",
     "text": [
      "False\n",
      "estimating flare location\n"
     ]
    },
    {
     "name": "stderr",
     "output_type": "stream",
     "text": [
      "2025-10-05 20:23:14 - root - ERROR: Error processing flare 45: too many values to unpack (expected 2)\n"
     ]
    },
    {
     "name": "stdout",
     "output_type": "stream",
     "text": [
      "False\n",
      "estimating flare location\n"
     ]
    },
    {
     "name": "stderr",
     "output_type": "stream",
     "text": [
      "2025-10-05 20:23:16 - root - ERROR: Error processing flare 46: too many values to unpack (expected 2)\n"
     ]
    },
    {
     "name": "stdout",
     "output_type": "stream",
     "text": [
      "False\n",
      "estimating flare location\n"
     ]
    },
    {
     "name": "stderr",
     "output_type": "stream",
     "text": [
      "2025-10-05 20:23:18 - root - ERROR: Error processing flare 47: too many values to unpack (expected 2)\n"
     ]
    },
    {
     "name": "stdout",
     "output_type": "stream",
     "text": [
      "False\n",
      "estimating flare location\n"
     ]
    },
    {
     "name": "stderr",
     "output_type": "stream",
     "text": [
      "2025-10-05 20:23:19 - root - ERROR: Error processing flare 48: too many values to unpack (expected 2)\n"
     ]
    },
    {
     "name": "stdout",
     "output_type": "stream",
     "text": [
      "False\n",
      "estimating flare location\n"
     ]
    },
    {
     "name": "stderr",
     "output_type": "stream",
     "text": [
      "2025-10-05 20:23:21 - root - ERROR: Error processing flare 49: too many values to unpack (expected 2)\n"
     ]
    },
    {
     "name": "stdout",
     "output_type": "stream",
     "text": [
      "False\n",
      "estimating flare location\n"
     ]
    },
    {
     "name": "stderr",
     "output_type": "stream",
     "text": [
      "2025-10-05 20:23:22 - root - ERROR: Error processing flare 50: too many values to unpack (expected 2)\n"
     ]
    },
    {
     "name": "stdout",
     "output_type": "stream",
     "text": [
      "False\n",
      "estimating flare location\n"
     ]
    },
    {
     "name": "stderr",
     "output_type": "stream",
     "text": [
      "2025-10-05 20:23:24 - root - ERROR: Error processing flare 51: too many values to unpack (expected 2)\n"
     ]
    },
    {
     "name": "stdout",
     "output_type": "stream",
     "text": [
      "False\n",
      "estimating flare location\n"
     ]
    },
    {
     "name": "stderr",
     "output_type": "stream",
     "text": [
      "2025-10-05 20:23:25 - root - ERROR: Error processing flare 52: too many values to unpack (expected 2)\n"
     ]
    },
    {
     "name": "stdout",
     "output_type": "stream",
     "text": [
      "False\n",
      "estimating flare location\n"
     ]
    },
    {
     "name": "stderr",
     "output_type": "stream",
     "text": [
      "2025-10-05 20:23:27 - root - ERROR: Error processing flare 53: too many values to unpack (expected 2)\n"
     ]
    },
    {
     "name": "stdout",
     "output_type": "stream",
     "text": [
      "False\n",
      "estimating flare location\n"
     ]
    },
    {
     "name": "stderr",
     "output_type": "stream",
     "text": [
      "2025-10-05 20:23:28 - root - ERROR: Error processing flare 54: too many values to unpack (expected 2)\n"
     ]
    },
    {
     "name": "stdout",
     "output_type": "stream",
     "text": [
      "False\n",
      "estimating flare location\n"
     ]
    },
    {
     "name": "stderr",
     "output_type": "stream",
     "text": [
      "2025-10-05 20:23:31 - root - ERROR: Error processing flare 55: too many values to unpack (expected 2)\n"
     ]
    },
    {
     "name": "stdout",
     "output_type": "stream",
     "text": [
      "False\n",
      "estimating flare location\n"
     ]
    },
    {
     "name": "stderr",
     "output_type": "stream",
     "text": [
      "2025-10-05 20:23:34 - root - ERROR: Error processing flare 56: too many values to unpack (expected 2)\n"
     ]
    },
    {
     "name": "stdout",
     "output_type": "stream",
     "text": [
      "False\n",
      "estimating flare location\n"
     ]
    },
    {
     "name": "stderr",
     "output_type": "stream",
     "text": [
      "2025-10-05 20:23:37 - root - ERROR: Error processing flare 57: too many values to unpack (expected 2)\n"
     ]
    },
    {
     "name": "stdout",
     "output_type": "stream",
     "text": [
      "False\n",
      "estimating flare location\n"
     ]
    },
    {
     "name": "stderr",
     "output_type": "stream",
     "text": [
      "2025-10-05 20:23:40 - root - ERROR: Error processing flare 58: too many values to unpack (expected 2)\n"
     ]
    },
    {
     "name": "stdout",
     "output_type": "stream",
     "text": [
      "False\n",
      "estimating flare location\n"
     ]
    },
    {
     "name": "stderr",
     "output_type": "stream",
     "text": [
      "2025-10-05 20:23:42 - root - ERROR: Error processing flare 59: too many values to unpack (expected 2)\n"
     ]
    },
    {
     "name": "stdout",
     "output_type": "stream",
     "text": [
      "False\n",
      "estimating flare location\n"
     ]
    },
    {
     "name": "stderr",
     "output_type": "stream",
     "text": [
      "2025-10-05 20:23:43 - root - ERROR: Error processing flare 60: too many values to unpack (expected 2)\n"
     ]
    },
    {
     "name": "stdout",
     "output_type": "stream",
     "text": [
      "False\n",
      "estimating flare location\n"
     ]
    },
    {
     "name": "stderr",
     "output_type": "stream",
     "text": [
      "2025-10-05 20:23:43 - root - ERROR: Error processing flare 61: too many values to unpack (expected 2)\n"
     ]
    },
    {
     "name": "stdout",
     "output_type": "stream",
     "text": [
      "False\n",
      "estimating flare location\n"
     ]
    },
    {
     "name": "stderr",
     "output_type": "stream",
     "text": [
      "2025-10-05 20:23:44 - root - ERROR: Error processing flare 62: too many values to unpack (expected 2)\n"
     ]
    },
    {
     "name": "stdout",
     "output_type": "stream",
     "text": [
      "False\n",
      "estimating flare location\n"
     ]
    },
    {
     "name": "stderr",
     "output_type": "stream",
     "text": [
      "2025-10-05 20:23:45 - root - ERROR: Error processing flare 63: too many values to unpack (expected 2)\n"
     ]
    },
    {
     "name": "stdout",
     "output_type": "stream",
     "text": [
      "False\n",
      "estimating flare location\n"
     ]
    },
    {
     "name": "stderr",
     "output_type": "stream",
     "text": [
      "2025-10-05 20:23:45 - root - ERROR: Error processing flare 64: too many values to unpack (expected 2)\n"
     ]
    },
    {
     "name": "stdout",
     "output_type": "stream",
     "text": [
      "False\n",
      "estimating flare location\n"
     ]
    },
    {
     "name": "stderr",
     "output_type": "stream",
     "text": [
      "2025-10-05 20:23:46 - root - ERROR: Error processing flare 65: too many values to unpack (expected 2)\n"
     ]
    },
    {
     "name": "stdout",
     "output_type": "stream",
     "text": [
      "False\n",
      "estimating flare location\n"
     ]
    },
    {
     "name": "stderr",
     "output_type": "stream",
     "text": [
      "2025-10-05 20:23:46 - root - ERROR: Error processing flare 66: too many values to unpack (expected 2)\n"
     ]
    },
    {
     "name": "stdout",
     "output_type": "stream",
     "text": [
      "False\n",
      "estimating flare location\n"
     ]
    },
    {
     "name": "stderr",
     "output_type": "stream",
     "text": [
      "2025-10-05 20:23:47 - root - ERROR: Error processing flare 67: too many values to unpack (expected 2)\n"
     ]
    },
    {
     "name": "stdout",
     "output_type": "stream",
     "text": [
      "False\n",
      "estimating flare location\n"
     ]
    },
    {
     "name": "stderr",
     "output_type": "stream",
     "text": [
      "2025-10-05 20:23:47 - root - ERROR: Error processing flare 68: too many values to unpack (expected 2)\n"
     ]
    },
    {
     "name": "stdout",
     "output_type": "stream",
     "text": [
      "False\n",
      "estimating flare location\n"
     ]
    },
    {
     "name": "stderr",
     "output_type": "stream",
     "text": [
      "2025-10-05 20:23:48 - root - ERROR: Error processing flare 69: too many values to unpack (expected 2)\n"
     ]
    },
    {
     "name": "stdout",
     "output_type": "stream",
     "text": [
      "True\n",
      "estimating flare location\n"
     ]
    },
    {
     "name": "stderr",
     "output_type": "stream",
     "text": [
      "2025-10-05 20:23:48 - root - ERROR: Error processing flare 70: The following: rcr changed in the selected time interval please select a time interval where these are constant.\n"
     ]
    },
    {
     "name": "stdout",
     "output_type": "stream",
     "text": [
      "True\n",
      "estimating flare location\n"
     ]
    },
    {
     "name": "stderr",
     "output_type": "stream",
     "text": [
      "2025-10-05 20:23:49 - root - ERROR: Error processing flare 71: too many values to unpack (expected 2)\n"
     ]
    },
    {
     "name": "stdout",
     "output_type": "stream",
     "text": [
      "True\n",
      "estimating flare location\n"
     ]
    },
    {
     "name": "stderr",
     "output_type": "stream",
     "text": [
      "2025-10-05 20:23:49 - root - ERROR: Error processing flare 72: too many values to unpack (expected 2)\n"
     ]
    },
    {
     "name": "stdout",
     "output_type": "stream",
     "text": [
      "False\n",
      "estimating flare location\n"
     ]
    },
    {
     "name": "stderr",
     "output_type": "stream",
     "text": [
      "2025-10-05 20:23:50 - root - ERROR: Error processing flare 73: too many values to unpack (expected 2)\n"
     ]
    },
    {
     "name": "stdout",
     "output_type": "stream",
     "text": [
      "False\n",
      "estimating flare location\n"
     ]
    },
    {
     "name": "stderr",
     "output_type": "stream",
     "text": [
      "2025-10-05 20:23:50 - root - ERROR: Error processing flare 74: too many values to unpack (expected 2)\n"
     ]
    },
    {
     "name": "stdout",
     "output_type": "stream",
     "text": [
      "False\n",
      "estimating flare location\n"
     ]
    },
    {
     "name": "stderr",
     "output_type": "stream",
     "text": [
      "2025-10-05 20:23:51 - root - ERROR: Error processing flare 75: too many values to unpack (expected 2)\n"
     ]
    },
    {
     "name": "stdout",
     "output_type": "stream",
     "text": [
      "False\n",
      "estimating flare location\n"
     ]
    },
    {
     "name": "stderr",
     "output_type": "stream",
     "text": [
      "2025-10-05 20:23:51 - root - ERROR: Error processing flare 76: too many values to unpack (expected 2)\n",
      "2025-10-05 20:23:51 - root - INFO: Merging and processing flare data...\n",
      "c:\\Users\\Erhan\\anaconda3\\envs\\ip5\\Lib\\site-packages\\erfa\\core.py:133: ErfaWarning: ERFA function \"dtf2d\" yielded 1 of \"dubious year (Note 6)\"\n",
      "  warn(f'ERFA function \"{func_name}\" yielded {wmsg}', ErfaWarning)\n"
     ]
    },
    {
     "data": {
      "application/vnd.jupyter.widget-view+json": {
       "model_id": "6e5a0481ba7c4fd78f0b334c81dce819",
       "version_major": 2,
       "version_minor": 0
      },
      "text/plain": [
       "Files Downloaded:   0%|          | 0/1 [00:00<?, ?file/s]"
      ]
     },
     "metadata": {},
     "output_type": "display_data"
    },
    {
     "name": "stderr",
     "output_type": "stream",
     "text": [
      "2025-10-05 20:23:52 - root - INFO: Flare processing completed successfully.\n"
     ]
    },
    {
     "name": "stdout",
     "output_type": "stream",
     "text": [
      "                 start_UTC                  end_UTC                 peak_UTC  \\\n",
      "0  2024-10-01T00:50:38.581  2024-10-01T00:58:38.582  2024-10-01T00:52:30.581   \n",
      "\n",
      "   4-10 keV  10-15 keV  15-25 keV  25-50 keV  50-84 keV  bkg 4-10 keV  \\\n",
      "0     47103       4863        927        735        335         303.0   \n",
      "\n",
      "   bkg 10-15 keV  ...    flare_id    flare_id  sidelobes_ratio  \\\n",
      "0           41.0  ...  2410010052  2410010052              NaN   \n",
      "\n",
      "   goes_estimated_min_class  goes_estimated_max_class  \\\n",
      "0                        C1                        C3   \n",
      "\n",
      "   goes_estimated_mean_class  goes_estimated_min_flux  \\\n",
      "0                         C2                 0.000001   \n",
      "\n",
      "   goes_estimated_max_flux  goes_estimated_mean_flux  error_with_imaging  \n",
      "0                 0.000003                  0.000002                True  \n",
      "\n",
      "[1 rows x 39 columns]\n"
     ]
    }
   ],
   "source": [
    "flares = get_flares('2024-10-01', '2024-10-02', 'test')\n",
    "print(flares[:1]);\n",
    "\n",
    "flares.to_csv('flares.csv')\n",
    "# automated pipeline\n",
    "\n"
   ]
  },
  {
   "cell_type": "code",
   "execution_count": null,
   "id": "be117f90",
   "metadata": {},
   "outputs": [
    {
     "name": "stderr",
     "output_type": "stream",
     "text": [
      "2025-10-05 20:23:52 - root - INFO: Fetching flare list from Data Center...\n",
      "2025-10-05 20:23:53 - root - INFO: Fetched 79 flares from 2024-10-01 00:00:00.000 to 2024-10-02 00:00:00.000\n"
     ]
    },
    {
     "data": {
      "text/html": [
       "<div>\n",
       "<style scoped>\n",
       "    .dataframe tbody tr th:only-of-type {\n",
       "        vertical-align: middle;\n",
       "    }\n",
       "\n",
       "    .dataframe tbody tr th {\n",
       "        vertical-align: top;\n",
       "    }\n",
       "\n",
       "    .dataframe thead th {\n",
       "        text-align: right;\n",
       "    }\n",
       "</style>\n",
       "<table border=\"1\" class=\"dataframe\">\n",
       "  <thead>\n",
       "    <tr style=\"text-align: right;\">\n",
       "      <th></th>\n",
       "      <th>flare_id</th>\n",
       "      <th>duration</th>\n",
       "      <th>att_in</th>\n",
       "      <th>peak_UTC</th>\n",
       "      <th>LC0_BKG</th>\n",
       "      <th>_id</th>\n",
       "      <th>GOES_class</th>\n",
       "      <th>GOES_flux</th>\n",
       "      <th>goes_estimated_min_class</th>\n",
       "      <th>goes_estimated_max_class</th>\n",
       "      <th>...</th>\n",
       "      <th>LC0_PEAK_COUNTS_4S</th>\n",
       "      <th>LC0_BKG_COUNTS_4S</th>\n",
       "      <th>LC1_PEAK_COUNTS_4S</th>\n",
       "      <th>LC1_BKG_COUNTS_4S</th>\n",
       "      <th>LC2_PEAK_COUNTS_4S</th>\n",
       "      <th>LC2_BKG_COUNTS_4S</th>\n",
       "      <th>LC3_PEAK_COUNTS_4S</th>\n",
       "      <th>LC3_BKG_COUNTS_4S</th>\n",
       "      <th>LC4_PEAK_COUNTS_4S</th>\n",
       "      <th>LC4_BKG_COUNTS_4S</th>\n",
       "    </tr>\n",
       "  </thead>\n",
       "  <tbody>\n",
       "    <tr>\n",
       "      <th>0</th>\n",
       "      <td>2410010052</td>\n",
       "      <td>480</td>\n",
       "      <td>False</td>\n",
       "      <td>2024-10-01T00:52:30.581</td>\n",
       "      <td>575.136067</td>\n",
       "      <td>63239</td>\n",
       "      <td>M1.1</td>\n",
       "      <td>0.000011</td>\n",
       "      <td>C1</td>\n",
       "      <td>C3</td>\n",
       "      <td>...</td>\n",
       "      <td>47103</td>\n",
       "      <td>303.0</td>\n",
       "      <td>4863</td>\n",
       "      <td>41.0</td>\n",
       "      <td>927</td>\n",
       "      <td>49.0</td>\n",
       "      <td>735</td>\n",
       "      <td>607.0</td>\n",
       "      <td>335</td>\n",
       "      <td>303.0</td>\n",
       "    </tr>\n",
       "  </tbody>\n",
       "</table>\n",
       "<p>1 rows × 28 columns</p>\n",
       "</div>"
      ],
      "text/plain": [
       "     flare_id  duration  att_in                 peak_UTC     LC0_BKG    _id  \\\n",
       "0  2410010052       480   False  2024-10-01T00:52:30.581  575.136067  63239   \n",
       "\n",
       "  GOES_class  GOES_flux goes_estimated_min_class goes_estimated_max_class  \\\n",
       "0       M1.1   0.000011                       C1                       C3   \n",
       "\n",
       "   ... LC0_PEAK_COUNTS_4S  LC0_BKG_COUNTS_4S  LC1_PEAK_COUNTS_4S  \\\n",
       "0  ...              47103              303.0                4863   \n",
       "\n",
       "   LC1_BKG_COUNTS_4S LC2_PEAK_COUNTS_4S LC2_BKG_COUNTS_4S LC3_PEAK_COUNTS_4S  \\\n",
       "0               41.0                927              49.0                735   \n",
       "\n",
       "  LC3_BKG_COUNTS_4S  LC4_PEAK_COUNTS_4S  LC4_BKG_COUNTS_4S  \n",
       "0             607.0                 335              303.0  \n",
       "\n",
       "[1 rows x 28 columns]"
      ]
     },
     "execution_count": 6,
     "metadata": {},
     "output_type": "execute_result"
    }
   ],
   "source": [
    "# manual pipeline\n",
    "tstart = Time(\"2024-10-01\")\n",
    "tend = Time(\"2024-10-02\")\n",
    "\n",
    "flare_list = fetch_operational_flare_list(tstart, tend)\n",
    "\n",
    "flare_list[:1]"
   ]
  },
  {
   "cell_type": "code",
   "execution_count": null,
   "id": "1a8e1eca",
   "metadata": {},
   "outputs": [
    {
     "name": "stderr",
     "output_type": "stream",
     "text": [
      "2025-10-05 20:23:53 - root - INFO: Filtering flare list and associating data files\n",
      "2025-10-05 20:23:53 - root - INFO: Processed flare to find files 1/77\n",
      "2025-10-05 20:23:53 - root - INFO: Processed flare to find files 2/77\n",
      "2025-10-05 20:23:53 - root - INFO: Processed flare to find files 3/77\n",
      "2025-10-05 20:23:53 - root - INFO: Processed flare to find files 4/77\n",
      "2025-10-05 20:23:53 - root - INFO: Processed flare to find files 5/77\n",
      "2025-10-05 20:23:53 - root - INFO: Processed flare to find files 6/77\n",
      "2025-10-05 20:23:53 - root - INFO: Processed flare to find files 7/77\n",
      "2025-10-05 20:23:53 - root - INFO: Processed flare to find files 8/77\n",
      "2025-10-05 20:23:53 - root - INFO: Processed flare to find files 9/77\n",
      "2025-10-05 20:23:53 - root - INFO: Processed flare to find files 10/77\n",
      "2025-10-05 20:23:53 - root - INFO: Processed flare to find files 11/77\n",
      "2025-10-05 20:23:53 - root - INFO: Processed flare to find files 12/77\n",
      "2025-10-05 20:23:53 - root - INFO: Processed flare to find files 13/77\n",
      "2025-10-05 20:23:53 - root - INFO: Processed flare to find files 14/77\n",
      "2025-10-05 20:23:53 - root - INFO: Processed flare to find files 15/77\n",
      "2025-10-05 20:23:53 - root - INFO: Processed flare to find files 16/77\n",
      "2025-10-05 20:23:53 - root - INFO: Processed flare to find files 17/77\n",
      "2025-10-05 20:23:53 - root - INFO: Processed flare to find files 18/77\n",
      "2025-10-05 20:23:53 - root - INFO: Processed flare to find files 19/77\n",
      "2025-10-05 20:23:53 - root - INFO: Processed flare to find files 20/77\n",
      "2025-10-05 20:23:53 - root - INFO: Processed flare to find files 21/77\n",
      "2025-10-05 20:23:53 - root - INFO: Processed flare to find files 22/77\n",
      "2025-10-05 20:23:53 - root - INFO: Processed flare to find files 23/77\n",
      "2025-10-05 20:23:53 - root - INFO: Processed flare to find files 24/77\n",
      "2025-10-05 20:23:53 - root - INFO: Processed flare to find files 25/77\n",
      "2025-10-05 20:23:53 - root - INFO: Processed flare to find files 26/77\n",
      "2025-10-05 20:23:53 - root - INFO: Processed flare to find files 27/77\n",
      "2025-10-05 20:23:53 - root - INFO: Processed flare to find files 28/77\n",
      "2025-10-05 20:23:53 - root - INFO: Processed flare to find files 29/77\n",
      "2025-10-05 20:23:53 - root - INFO: Processed flare to find files 30/77\n",
      "2025-10-05 20:23:53 - root - INFO: Processed flare to find files 31/77\n",
      "2025-10-05 20:23:53 - root - INFO: Processed flare to find files 32/77\n",
      "2025-10-05 20:23:53 - root - INFO: Processed flare to find files 33/77\n",
      "2025-10-05 20:23:53 - root - INFO: Processed flare to find files 34/77\n",
      "2025-10-05 20:23:53 - root - INFO: Processed flare to find files 35/77\n",
      "2025-10-05 20:23:53 - root - INFO: Processed flare to find files 36/77\n",
      "2025-10-05 20:23:53 - root - INFO: Processed flare to find files 37/77\n",
      "2025-10-05 20:23:53 - root - INFO: Processed flare to find files 38/77\n",
      "2025-10-05 20:23:53 - root - INFO: Processed flare to find files 39/77\n",
      "2025-10-05 20:23:53 - root - INFO: Processed flare to find files 40/77\n",
      "2025-10-05 20:23:53 - root - INFO: Processed flare to find files 41/77\n",
      "2025-10-05 20:23:53 - root - INFO: Processed flare to find files 42/77\n",
      "2025-10-05 20:23:53 - root - INFO: Processed flare to find files 43/77\n",
      "2025-10-05 20:23:53 - root - INFO: Processed flare to find files 44/77\n",
      "2025-10-05 20:23:53 - root - INFO: Processed flare to find files 45/77\n",
      "2025-10-05 20:23:53 - root - INFO: Processed flare to find files 46/77\n",
      "2025-10-05 20:23:53 - root - INFO: Processed flare to find files 47/77\n",
      "2025-10-05 20:23:53 - root - INFO: Processed flare to find files 48/77\n",
      "2025-10-05 20:23:53 - root - INFO: Processed flare to find files 49/77\n",
      "2025-10-05 20:23:53 - root - INFO: Processed flare to find files 50/77\n",
      "2025-10-05 20:23:53 - root - INFO: Processed flare to find files 51/77\n",
      "2025-10-05 20:23:53 - root - INFO: Processed flare to find files 52/77\n",
      "2025-10-05 20:23:53 - root - INFO: Processed flare to find files 53/77\n",
      "2025-10-05 20:23:53 - root - INFO: Processed flare to find files 54/77\n",
      "2025-10-05 20:23:53 - root - INFO: Processed flare to find files 55/77\n",
      "2025-10-05 20:23:53 - root - INFO: Processed flare to find files 56/77\n",
      "2025-10-05 20:23:53 - root - INFO: Processed flare to find files 57/77\n",
      "2025-10-05 20:23:53 - root - INFO: Processed flare to find files 58/77\n",
      "2025-10-05 20:23:53 - root - INFO: Processed flare to find files 59/77\n",
      "2025-10-05 20:23:53 - root - INFO: Processed flare to find files 60/77\n",
      "2025-10-05 20:23:53 - root - INFO: Processed flare to find files 61/77\n",
      "2025-10-05 20:23:53 - root - INFO: Processed flare to find files 62/77\n",
      "2025-10-05 20:23:53 - root - INFO: Processed flare to find files 63/77\n",
      "2025-10-05 20:23:53 - root - INFO: Processed flare to find files 64/77\n",
      "2025-10-05 20:23:53 - root - INFO: Processed flare to find files 65/77\n",
      "2025-10-05 20:23:53 - root - INFO: Processed flare to find files 66/77\n",
      "2025-10-05 20:23:53 - root - INFO: Processed flare to find files 67/77\n",
      "2025-10-05 20:23:53 - root - INFO: Processed flare to find files 68/77\n",
      "2025-10-05 20:23:53 - root - INFO: Processed flare to find files 69/77\n",
      "2025-10-05 20:23:53 - root - INFO: Processed flare to find files 70/77\n",
      "2025-10-05 20:23:53 - root - INFO: Processed flare to find files 71/77\n",
      "2025-10-05 20:23:53 - root - INFO: Processed flare to find files 72/77\n",
      "2025-10-05 20:23:53 - root - INFO: Processed flare to find files 73/77\n",
      "2025-10-05 20:23:53 - root - INFO: Processed flare to find files 74/77\n",
      "2025-10-05 20:23:53 - root - INFO: Processed flare to find files 75/77\n",
      "2025-10-05 20:23:53 - root - INFO: Processed flare to find files 76/77\n",
      "2025-10-05 20:23:53 - root - INFO: Processed flare to find files 77/77\n",
      "c:\\Users\\Erhan\\ip5\\ip5 test\\..\\generate_flarelist_python\\flarelist_generate.py:131: SettingWithCopyWarning: \n",
      "A value is trying to be set on a copy of a slice from a DataFrame.\n",
      "Try using .loc[row_indexer,col_indexer] = value instead\n",
      "\n",
      "See the caveats in the documentation: https://pandas.pydata.org/pandas-docs/stable/user_guide/indexing.html#returning-a-view-versus-a-copy\n",
      "  flarelist_gt_1000[\"filenames\"] = file_names\n"
     ]
    },
    {
     "data": {
      "text/html": [
       "<div>\n",
       "<style scoped>\n",
       "    .dataframe tbody tr th:only-of-type {\n",
       "        vertical-align: middle;\n",
       "    }\n",
       "\n",
       "    .dataframe tbody tr th {\n",
       "        vertical-align: top;\n",
       "    }\n",
       "\n",
       "    .dataframe thead th {\n",
       "        text-align: right;\n",
       "    }\n",
       "</style>\n",
       "<table border=\"1\" class=\"dataframe\">\n",
       "  <thead>\n",
       "    <tr style=\"text-align: right;\">\n",
       "      <th></th>\n",
       "      <th>flare_id</th>\n",
       "      <th>duration</th>\n",
       "      <th>att_in</th>\n",
       "      <th>peak_UTC</th>\n",
       "      <th>LC0_BKG</th>\n",
       "      <th>_id</th>\n",
       "      <th>GOES_class</th>\n",
       "      <th>GOES_flux</th>\n",
       "      <th>goes_estimated_min_class</th>\n",
       "      <th>goes_estimated_max_class</th>\n",
       "      <th>...</th>\n",
       "      <th>LC0_BKG_COUNTS_4S</th>\n",
       "      <th>LC1_PEAK_COUNTS_4S</th>\n",
       "      <th>LC1_BKG_COUNTS_4S</th>\n",
       "      <th>LC2_PEAK_COUNTS_4S</th>\n",
       "      <th>LC2_BKG_COUNTS_4S</th>\n",
       "      <th>LC3_PEAK_COUNTS_4S</th>\n",
       "      <th>LC3_BKG_COUNTS_4S</th>\n",
       "      <th>LC4_PEAK_COUNTS_4S</th>\n",
       "      <th>LC4_BKG_COUNTS_4S</th>\n",
       "      <th>filenames</th>\n",
       "    </tr>\n",
       "  </thead>\n",
       "  <tbody>\n",
       "    <tr>\n",
       "      <th>0</th>\n",
       "      <td>2410010052</td>\n",
       "      <td>480</td>\n",
       "      <td>False</td>\n",
       "      <td>2024-10-01T00:52:30.581</td>\n",
       "      <td>575.136067</td>\n",
       "      <td>63239</td>\n",
       "      <td>M1.1</td>\n",
       "      <td>0.000011</td>\n",
       "      <td>C1</td>\n",
       "      <td>C3</td>\n",
       "      <td>...</td>\n",
       "      <td>303.0</td>\n",
       "      <td>4863</td>\n",
       "      <td>41.0</td>\n",
       "      <td>927</td>\n",
       "      <td>49.0</td>\n",
       "      <td>735</td>\n",
       "      <td>607.0</td>\n",
       "      <td>335</td>\n",
       "      <td>303.0</td>\n",
       "      <td>test\\solo_L1_stix-sci-xray-cpd_20241001T000000...</td>\n",
       "    </tr>\n",
       "  </tbody>\n",
       "</table>\n",
       "<p>1 rows × 29 columns</p>\n",
       "</div>"
      ],
      "text/plain": [
       "     flare_id  duration  att_in                 peak_UTC     LC0_BKG    _id  \\\n",
       "0  2410010052       480   False  2024-10-01T00:52:30.581  575.136067  63239   \n",
       "\n",
       "  GOES_class  GOES_flux goes_estimated_min_class goes_estimated_max_class  \\\n",
       "0       M1.1   0.000011                       C1                       C3   \n",
       "\n",
       "   ... LC0_BKG_COUNTS_4S  LC1_PEAK_COUNTS_4S  LC1_BKG_COUNTS_4S  \\\n",
       "0  ...             303.0                4863               41.0   \n",
       "\n",
       "   LC2_PEAK_COUNTS_4S LC2_BKG_COUNTS_4S LC3_PEAK_COUNTS_4S LC3_BKG_COUNTS_4S  \\\n",
       "0                 927              49.0                735             607.0   \n",
       "\n",
       "  LC4_PEAK_COUNTS_4S  LC4_BKG_COUNTS_4S  \\\n",
       "0                335              303.0   \n",
       "\n",
       "                                           filenames  \n",
       "0  test\\solo_L1_stix-sci-xray-cpd_20241001T000000...  \n",
       "\n",
       "[1 rows x 29 columns]"
      ]
     },
     "execution_count": 7,
     "metadata": {},
     "output_type": "execute_result"
    }
   ],
   "source": [
    "from generate_flarelist_python.flarelist_generate import filter_and_associate_files\n",
    "\n",
    "\n",
    "filtered_flare_list_with_files = filter_and_associate_files(flare_list, 'test', threshold_counts=1000, save_csv=False)\n",
    "filtered_flare_list_with_files[:1]"
   ]
  },
  {
   "cell_type": "code",
   "execution_count": null,
   "id": "e9811a60",
   "metadata": {},
   "outputs": [
    {
     "name": "stderr",
     "output_type": "stream",
     "text": [
      "2025-10-05 20:23:53 - root - INFO: Estimating flare locations and attenuator status...\n",
      "2025-10-05 20:23:54 - root - ERROR: Error processing flare 0: too many values to unpack (expected 2)\n"
     ]
    },
    {
     "name": "stdout",
     "output_type": "stream",
     "text": [
      "False\n",
      "estimating flare location\n"
     ]
    },
    {
     "name": "stderr",
     "output_type": "stream",
     "text": [
      "2025-10-05 20:23:54 - root - ERROR: Error processing flare 1: too many values to unpack (expected 2)\n"
     ]
    },
    {
     "name": "stdout",
     "output_type": "stream",
     "text": [
      "False\n",
      "estimating flare location\n"
     ]
    },
    {
     "name": "stderr",
     "output_type": "stream",
     "text": [
      "2025-10-05 20:23:54 - root - ERROR: Error processing flare 2: too many values to unpack (expected 2)\n"
     ]
    },
    {
     "name": "stdout",
     "output_type": "stream",
     "text": [
      "False\n",
      "estimating flare location\n"
     ]
    },
    {
     "name": "stderr",
     "output_type": "stream",
     "text": [
      "2025-10-05 20:23:54 - root - ERROR: Error processing flare 3: too many values to unpack (expected 2)\n"
     ]
    },
    {
     "name": "stdout",
     "output_type": "stream",
     "text": [
      "False\n",
      "estimating flare location\n"
     ]
    },
    {
     "name": "stderr",
     "output_type": "stream",
     "text": [
      "2025-10-05 20:23:55 - root - ERROR: Error processing flare 4: too many values to unpack (expected 2)\n"
     ]
    },
    {
     "name": "stdout",
     "output_type": "stream",
     "text": [
      "False\n",
      "estimating flare location\n"
     ]
    },
    {
     "name": "stderr",
     "output_type": "stream",
     "text": [
      "2025-10-05 20:23:55 - root - ERROR: Error processing flare 5: too many values to unpack (expected 2)\n"
     ]
    },
    {
     "name": "stdout",
     "output_type": "stream",
     "text": [
      "False\n",
      "estimating flare location\n"
     ]
    },
    {
     "name": "stderr",
     "output_type": "stream",
     "text": [
      "2025-10-05 20:23:55 - root - ERROR: Error processing flare 6: too many values to unpack (expected 2)\n"
     ]
    },
    {
     "name": "stdout",
     "output_type": "stream",
     "text": [
      "False\n",
      "estimating flare location\n"
     ]
    },
    {
     "name": "stderr",
     "output_type": "stream",
     "text": [
      "2025-10-05 20:23:55 - root - ERROR: Error processing flare 7: too many values to unpack (expected 2)\n"
     ]
    },
    {
     "name": "stdout",
     "output_type": "stream",
     "text": [
      "False\n",
      "estimating flare location\n"
     ]
    },
    {
     "name": "stderr",
     "output_type": "stream",
     "text": [
      "2025-10-05 20:23:56 - root - ERROR: Error processing flare 8: too many values to unpack (expected 2)\n"
     ]
    },
    {
     "name": "stdout",
     "output_type": "stream",
     "text": [
      "False\n",
      "estimating flare location\n"
     ]
    },
    {
     "name": "stderr",
     "output_type": "stream",
     "text": [
      "2025-10-05 20:23:56 - root - ERROR: Error processing flare 9: too many values to unpack (expected 2)\n"
     ]
    },
    {
     "name": "stdout",
     "output_type": "stream",
     "text": [
      "False\n",
      "estimating flare location\n"
     ]
    },
    {
     "name": "stderr",
     "output_type": "stream",
     "text": [
      "2025-10-05 20:23:56 - root - ERROR: Error processing flare 10: too many values to unpack (expected 2)\n"
     ]
    },
    {
     "name": "stdout",
     "output_type": "stream",
     "text": [
      "False\n",
      "estimating flare location\n"
     ]
    },
    {
     "name": "stderr",
     "output_type": "stream",
     "text": [
      "2025-10-05 20:23:56 - root - ERROR: Error processing flare 11: too many values to unpack (expected 2)\n"
     ]
    },
    {
     "name": "stdout",
     "output_type": "stream",
     "text": [
      "False\n",
      "estimating flare location\n"
     ]
    },
    {
     "name": "stderr",
     "output_type": "stream",
     "text": [
      "2025-10-05 20:23:57 - root - ERROR: Error processing flare 12: too many values to unpack (expected 2)\n"
     ]
    },
    {
     "name": "stdout",
     "output_type": "stream",
     "text": [
      "False\n",
      "estimating flare location\n"
     ]
    },
    {
     "name": "stderr",
     "output_type": "stream",
     "text": [
      "2025-10-05 20:23:57 - root - ERROR: Error processing flare 13: too many values to unpack (expected 2)\n"
     ]
    },
    {
     "name": "stdout",
     "output_type": "stream",
     "text": [
      "False\n",
      "estimating flare location\n"
     ]
    },
    {
     "name": "stderr",
     "output_type": "stream",
     "text": [
      "2025-10-05 20:23:57 - root - ERROR: Error processing flare 14: too many values to unpack (expected 2)\n"
     ]
    },
    {
     "name": "stdout",
     "output_type": "stream",
     "text": [
      "False\n",
      "estimating flare location\n"
     ]
    },
    {
     "name": "stderr",
     "output_type": "stream",
     "text": [
      "2025-10-05 20:23:57 - root - ERROR: Error processing flare 15: too many values to unpack (expected 2)\n"
     ]
    },
    {
     "name": "stdout",
     "output_type": "stream",
     "text": [
      "False\n",
      "estimating flare location\n"
     ]
    },
    {
     "name": "stderr",
     "output_type": "stream",
     "text": [
      "2025-10-05 20:23:58 - root - ERROR: Error processing flare 16: too many values to unpack (expected 2)\n"
     ]
    },
    {
     "name": "stdout",
     "output_type": "stream",
     "text": [
      "False\n",
      "estimating flare location\n"
     ]
    },
    {
     "name": "stderr",
     "output_type": "stream",
     "text": [
      "2025-10-05 20:23:58 - root - ERROR: Error processing flare 17: too many values to unpack (expected 2)\n"
     ]
    },
    {
     "name": "stdout",
     "output_type": "stream",
     "text": [
      "False\n",
      "estimating flare location\n"
     ]
    },
    {
     "name": "stderr",
     "output_type": "stream",
     "text": [
      "2025-10-05 20:23:58 - root - ERROR: Error processing flare 18: too many values to unpack (expected 2)\n"
     ]
    },
    {
     "name": "stdout",
     "output_type": "stream",
     "text": [
      "False\n",
      "estimating flare location\n"
     ]
    },
    {
     "name": "stderr",
     "output_type": "stream",
     "text": [
      "2025-10-05 20:23:58 - root - ERROR: Error processing flare 19: too many values to unpack (expected 2)\n"
     ]
    },
    {
     "name": "stdout",
     "output_type": "stream",
     "text": [
      "False\n",
      "estimating flare location\n"
     ]
    },
    {
     "name": "stderr",
     "output_type": "stream",
     "text": [
      "2025-10-05 20:23:59 - root - ERROR: Error processing flare 20: too many values to unpack (expected 2)\n"
     ]
    },
    {
     "name": "stdout",
     "output_type": "stream",
     "text": [
      "False\n",
      "estimating flare location\n"
     ]
    },
    {
     "name": "stderr",
     "output_type": "stream",
     "text": [
      "2025-10-05 20:23:59 - root - ERROR: Error processing flare 21: too many values to unpack (expected 2)\n"
     ]
    },
    {
     "name": "stdout",
     "output_type": "stream",
     "text": [
      "False\n",
      "estimating flare location\n"
     ]
    },
    {
     "name": "stderr",
     "output_type": "stream",
     "text": [
      "2025-10-05 20:23:59 - root - ERROR: Error processing flare 22: too many values to unpack (expected 2)\n"
     ]
    },
    {
     "name": "stdout",
     "output_type": "stream",
     "text": [
      "False\n",
      "estimating flare location\n"
     ]
    },
    {
     "name": "stderr",
     "output_type": "stream",
     "text": [
      "2025-10-05 20:23:59 - root - ERROR: Error processing flare 23: too many values to unpack (expected 2)\n"
     ]
    },
    {
     "name": "stdout",
     "output_type": "stream",
     "text": [
      "False\n",
      "estimating flare location\n"
     ]
    },
    {
     "name": "stderr",
     "output_type": "stream",
     "text": [
      "2025-10-05 20:24:00 - root - ERROR: Error processing flare 24: too many values to unpack (expected 2)\n"
     ]
    },
    {
     "name": "stdout",
     "output_type": "stream",
     "text": [
      "False\n",
      "estimating flare location\n"
     ]
    },
    {
     "name": "stderr",
     "output_type": "stream",
     "text": [
      "2025-10-05 20:24:00 - root - ERROR: Error processing flare 25: too many values to unpack (expected 2)\n"
     ]
    },
    {
     "name": "stdout",
     "output_type": "stream",
     "text": [
      "False\n",
      "estimating flare location\n"
     ]
    },
    {
     "name": "stderr",
     "output_type": "stream",
     "text": [
      "2025-10-05 20:24:00 - root - ERROR: Error processing flare 26: too many values to unpack (expected 2)\n"
     ]
    },
    {
     "name": "stdout",
     "output_type": "stream",
     "text": [
      "False\n",
      "estimating flare location\n"
     ]
    },
    {
     "name": "stderr",
     "output_type": "stream",
     "text": [
      "2025-10-05 20:24:00 - root - ERROR: Error processing flare 27: too many values to unpack (expected 2)\n"
     ]
    },
    {
     "name": "stdout",
     "output_type": "stream",
     "text": [
      "False\n",
      "estimating flare location\n"
     ]
    },
    {
     "name": "stderr",
     "output_type": "stream",
     "text": [
      "2025-10-05 20:24:01 - root - ERROR: Error processing flare 28: too many values to unpack (expected 2)\n"
     ]
    },
    {
     "name": "stdout",
     "output_type": "stream",
     "text": [
      "False\n",
      "estimating flare location\n"
     ]
    },
    {
     "name": "stderr",
     "output_type": "stream",
     "text": [
      "2025-10-05 20:24:01 - root - ERROR: Error processing flare 29: too many values to unpack (expected 2)\n"
     ]
    },
    {
     "name": "stdout",
     "output_type": "stream",
     "text": [
      "False\n",
      "estimating flare location\n"
     ]
    },
    {
     "name": "stderr",
     "output_type": "stream",
     "text": [
      "2025-10-05 20:24:01 - root - ERROR: Error processing flare 30: too many values to unpack (expected 2)\n"
     ]
    },
    {
     "name": "stdout",
     "output_type": "stream",
     "text": [
      "False\n",
      "estimating flare location\n"
     ]
    },
    {
     "name": "stderr",
     "output_type": "stream",
     "text": [
      "2025-10-05 20:24:01 - root - ERROR: Error processing flare 31: too many values to unpack (expected 2)\n"
     ]
    },
    {
     "name": "stdout",
     "output_type": "stream",
     "text": [
      "False\n",
      "estimating flare location\n"
     ]
    },
    {
     "name": "stderr",
     "output_type": "stream",
     "text": [
      "2025-10-05 20:24:02 - root - ERROR: Error processing flare 32: too many values to unpack (expected 2)\n"
     ]
    },
    {
     "name": "stdout",
     "output_type": "stream",
     "text": [
      "False\n",
      "estimating flare location\n"
     ]
    },
    {
     "name": "stderr",
     "output_type": "stream",
     "text": [
      "2025-10-05 20:24:02 - root - ERROR: Error processing flare 33: too many values to unpack (expected 2)\n"
     ]
    },
    {
     "name": "stdout",
     "output_type": "stream",
     "text": [
      "False\n",
      "estimating flare location\n"
     ]
    },
    {
     "name": "stderr",
     "output_type": "stream",
     "text": [
      "2025-10-05 20:24:02 - root - ERROR: Error processing flare 34: too many values to unpack (expected 2)\n"
     ]
    },
    {
     "name": "stdout",
     "output_type": "stream",
     "text": [
      "False\n",
      "estimating flare location\n"
     ]
    },
    {
     "name": "stderr",
     "output_type": "stream",
     "text": [
      "2025-10-05 20:24:02 - root - ERROR: Error processing flare 35: too many values to unpack (expected 2)\n"
     ]
    },
    {
     "name": "stdout",
     "output_type": "stream",
     "text": [
      "False\n",
      "estimating flare location\n"
     ]
    },
    {
     "name": "stderr",
     "output_type": "stream",
     "text": [
      "2025-10-05 20:24:03 - root - ERROR: Error processing flare 36: too many values to unpack (expected 2)\n"
     ]
    },
    {
     "name": "stdout",
     "output_type": "stream",
     "text": [
      "False\n",
      "estimating flare location\n"
     ]
    },
    {
     "name": "stderr",
     "output_type": "stream",
     "text": [
      "2025-10-05 20:24:03 - root - ERROR: Error processing flare 37: too many values to unpack (expected 2)\n"
     ]
    },
    {
     "name": "stdout",
     "output_type": "stream",
     "text": [
      "False\n",
      "estimating flare location\n"
     ]
    },
    {
     "name": "stderr",
     "output_type": "stream",
     "text": [
      "2025-10-05 20:24:03 - root - ERROR: Error processing flare 38: too many values to unpack (expected 2)\n"
     ]
    },
    {
     "name": "stdout",
     "output_type": "stream",
     "text": [
      "False\n",
      "estimating flare location\n"
     ]
    },
    {
     "name": "stderr",
     "output_type": "stream",
     "text": [
      "2025-10-05 20:24:03 - root - ERROR: Error processing flare 39: too many values to unpack (expected 2)\n"
     ]
    },
    {
     "name": "stdout",
     "output_type": "stream",
     "text": [
      "False\n",
      "estimating flare location\n"
     ]
    },
    {
     "name": "stderr",
     "output_type": "stream",
     "text": [
      "2025-10-05 20:24:04 - root - ERROR: Error processing flare 40: too many values to unpack (expected 2)\n"
     ]
    },
    {
     "name": "stdout",
     "output_type": "stream",
     "text": [
      "False\n",
      "estimating flare location\n"
     ]
    },
    {
     "name": "stderr",
     "output_type": "stream",
     "text": [
      "2025-10-05 20:24:04 - root - ERROR: Error processing flare 41: too many values to unpack (expected 2)\n"
     ]
    },
    {
     "name": "stdout",
     "output_type": "stream",
     "text": [
      "False\n",
      "estimating flare location\n"
     ]
    },
    {
     "name": "stderr",
     "output_type": "stream",
     "text": [
      "2025-10-05 20:24:04 - root - ERROR: Error processing flare 42: too many values to unpack (expected 2)\n"
     ]
    },
    {
     "name": "stdout",
     "output_type": "stream",
     "text": [
      "False\n",
      "estimating flare location\n"
     ]
    },
    {
     "name": "stderr",
     "output_type": "stream",
     "text": [
      "2025-10-05 20:24:04 - root - ERROR: Error processing flare 43: too many values to unpack (expected 2)\n"
     ]
    },
    {
     "name": "stdout",
     "output_type": "stream",
     "text": [
      "False\n",
      "estimating flare location\n"
     ]
    },
    {
     "name": "stderr",
     "output_type": "stream",
     "text": [
      "2025-10-05 20:24:05 - root - ERROR: Error processing flare 44: too many values to unpack (expected 2)\n"
     ]
    },
    {
     "name": "stdout",
     "output_type": "stream",
     "text": [
      "False\n",
      "estimating flare location\n"
     ]
    },
    {
     "name": "stderr",
     "output_type": "stream",
     "text": [
      "2025-10-05 20:24:05 - root - ERROR: Error processing flare 45: too many values to unpack (expected 2)\n"
     ]
    },
    {
     "name": "stdout",
     "output_type": "stream",
     "text": [
      "False\n",
      "estimating flare location\n"
     ]
    },
    {
     "name": "stderr",
     "output_type": "stream",
     "text": [
      "2025-10-05 20:24:05 - root - ERROR: Error processing flare 46: too many values to unpack (expected 2)\n"
     ]
    },
    {
     "name": "stdout",
     "output_type": "stream",
     "text": [
      "False\n",
      "estimating flare location\n"
     ]
    },
    {
     "name": "stderr",
     "output_type": "stream",
     "text": [
      "2025-10-05 20:24:05 - root - ERROR: Error processing flare 47: too many values to unpack (expected 2)\n"
     ]
    },
    {
     "name": "stdout",
     "output_type": "stream",
     "text": [
      "False\n",
      "estimating flare location\n"
     ]
    },
    {
     "name": "stderr",
     "output_type": "stream",
     "text": [
      "2025-10-05 20:24:06 - root - ERROR: Error processing flare 48: too many values to unpack (expected 2)\n"
     ]
    },
    {
     "name": "stdout",
     "output_type": "stream",
     "text": [
      "False\n",
      "estimating flare location\n"
     ]
    },
    {
     "name": "stderr",
     "output_type": "stream",
     "text": [
      "2025-10-05 20:24:06 - root - ERROR: Error processing flare 49: too many values to unpack (expected 2)\n"
     ]
    },
    {
     "name": "stdout",
     "output_type": "stream",
     "text": [
      "False\n",
      "estimating flare location\n"
     ]
    },
    {
     "name": "stderr",
     "output_type": "stream",
     "text": [
      "2025-10-05 20:24:06 - root - ERROR: Error processing flare 50: too many values to unpack (expected 2)\n"
     ]
    },
    {
     "name": "stdout",
     "output_type": "stream",
     "text": [
      "False\n",
      "estimating flare location\n"
     ]
    },
    {
     "name": "stderr",
     "output_type": "stream",
     "text": [
      "2025-10-05 20:24:06 - root - ERROR: Error processing flare 51: too many values to unpack (expected 2)\n"
     ]
    },
    {
     "name": "stdout",
     "output_type": "stream",
     "text": [
      "False\n",
      "estimating flare location\n"
     ]
    },
    {
     "name": "stderr",
     "output_type": "stream",
     "text": [
      "2025-10-05 20:24:07 - root - ERROR: Error processing flare 52: too many values to unpack (expected 2)\n"
     ]
    },
    {
     "name": "stdout",
     "output_type": "stream",
     "text": [
      "False\n",
      "estimating flare location\n"
     ]
    },
    {
     "name": "stderr",
     "output_type": "stream",
     "text": [
      "2025-10-05 20:24:07 - root - ERROR: Error processing flare 53: too many values to unpack (expected 2)\n"
     ]
    },
    {
     "name": "stdout",
     "output_type": "stream",
     "text": [
      "False\n",
      "estimating flare location\n"
     ]
    },
    {
     "name": "stderr",
     "output_type": "stream",
     "text": [
      "2025-10-05 20:24:07 - root - ERROR: Error processing flare 54: too many values to unpack (expected 2)\n"
     ]
    },
    {
     "name": "stdout",
     "output_type": "stream",
     "text": [
      "False\n",
      "estimating flare location\n",
      "False\n",
      "estimating flare location\n"
     ]
    },
    {
     "name": "stderr",
     "output_type": "stream",
     "text": [
      "2025-10-05 20:24:08 - root - ERROR: Error processing flare 55: too many values to unpack (expected 2)\n"
     ]
    },
    {
     "name": "stdout",
     "output_type": "stream",
     "text": [
      "False\n",
      "estimating flare location\n"
     ]
    },
    {
     "name": "stderr",
     "output_type": "stream",
     "text": [
      "2025-10-05 20:24:08 - root - ERROR: Error processing flare 56: too many values to unpack (expected 2)\n"
     ]
    },
    {
     "name": "stdout",
     "output_type": "stream",
     "text": [
      "False\n",
      "estimating flare location\n"
     ]
    },
    {
     "name": "stderr",
     "output_type": "stream",
     "text": [
      "2025-10-05 20:24:09 - root - ERROR: Error processing flare 57: too many values to unpack (expected 2)\n"
     ]
    },
    {
     "name": "stdout",
     "output_type": "stream",
     "text": [
      "False\n",
      "estimating flare location\n"
     ]
    },
    {
     "name": "stderr",
     "output_type": "stream",
     "text": [
      "2025-10-05 20:24:09 - root - ERROR: Error processing flare 58: too many values to unpack (expected 2)\n"
     ]
    },
    {
     "name": "stdout",
     "output_type": "stream",
     "text": [
      "False\n",
      "estimating flare location\n"
     ]
    },
    {
     "name": "stderr",
     "output_type": "stream",
     "text": [
      "2025-10-05 20:24:10 - root - ERROR: Error processing flare 59: too many values to unpack (expected 2)\n"
     ]
    },
    {
     "name": "stdout",
     "output_type": "stream",
     "text": [
      "False\n",
      "estimating flare location\n"
     ]
    },
    {
     "name": "stderr",
     "output_type": "stream",
     "text": [
      "2025-10-05 20:24:10 - root - ERROR: Error processing flare 60: too many values to unpack (expected 2)\n"
     ]
    },
    {
     "name": "stdout",
     "output_type": "stream",
     "text": [
      "False\n",
      "estimating flare location\n"
     ]
    },
    {
     "name": "stderr",
     "output_type": "stream",
     "text": [
      "2025-10-05 20:24:11 - root - ERROR: Error processing flare 61: too many values to unpack (expected 2)\n"
     ]
    },
    {
     "name": "stdout",
     "output_type": "stream",
     "text": [
      "False\n",
      "estimating flare location\n"
     ]
    },
    {
     "name": "stderr",
     "output_type": "stream",
     "text": [
      "2025-10-05 20:24:11 - root - ERROR: Error processing flare 62: too many values to unpack (expected 2)\n"
     ]
    },
    {
     "name": "stdout",
     "output_type": "stream",
     "text": [
      "False\n",
      "estimating flare location\n"
     ]
    },
    {
     "name": "stderr",
     "output_type": "stream",
     "text": [
      "2025-10-05 20:24:12 - root - ERROR: Error processing flare 63: too many values to unpack (expected 2)\n"
     ]
    },
    {
     "name": "stdout",
     "output_type": "stream",
     "text": [
      "False\n",
      "estimating flare location\n"
     ]
    },
    {
     "name": "stderr",
     "output_type": "stream",
     "text": [
      "2025-10-05 20:24:12 - root - ERROR: Error processing flare 64: too many values to unpack (expected 2)\n"
     ]
    },
    {
     "name": "stdout",
     "output_type": "stream",
     "text": [
      "False\n",
      "estimating flare location\n"
     ]
    },
    {
     "name": "stderr",
     "output_type": "stream",
     "text": [
      "2025-10-05 20:24:13 - root - ERROR: Error processing flare 65: too many values to unpack (expected 2)\n"
     ]
    },
    {
     "name": "stdout",
     "output_type": "stream",
     "text": [
      "False\n",
      "estimating flare location\n"
     ]
    },
    {
     "name": "stderr",
     "output_type": "stream",
     "text": [
      "2025-10-05 20:24:13 - root - ERROR: Error processing flare 66: too many values to unpack (expected 2)\n"
     ]
    },
    {
     "name": "stdout",
     "output_type": "stream",
     "text": [
      "False\n",
      "estimating flare location\n"
     ]
    },
    {
     "name": "stderr",
     "output_type": "stream",
     "text": [
      "2025-10-05 20:24:14 - root - ERROR: Error processing flare 67: too many values to unpack (expected 2)\n"
     ]
    },
    {
     "name": "stdout",
     "output_type": "stream",
     "text": [
      "False\n",
      "estimating flare location\n"
     ]
    },
    {
     "name": "stderr",
     "output_type": "stream",
     "text": [
      "2025-10-05 20:24:14 - root - ERROR: Error processing flare 68: too many values to unpack (expected 2)\n"
     ]
    },
    {
     "name": "stdout",
     "output_type": "stream",
     "text": [
      "False\n",
      "estimating flare location\n"
     ]
    },
    {
     "name": "stderr",
     "output_type": "stream",
     "text": [
      "2025-10-05 20:24:15 - root - ERROR: Error processing flare 69: too many values to unpack (expected 2)\n"
     ]
    },
    {
     "name": "stdout",
     "output_type": "stream",
     "text": [
      "True\n",
      "estimating flare location\n"
     ]
    },
    {
     "name": "stderr",
     "output_type": "stream",
     "text": [
      "2025-10-05 20:24:15 - root - ERROR: Error processing flare 70: The following: rcr changed in the selected time interval please select a time interval where these are constant.\n"
     ]
    },
    {
     "name": "stdout",
     "output_type": "stream",
     "text": [
      "True\n",
      "estimating flare location\n"
     ]
    },
    {
     "name": "stderr",
     "output_type": "stream",
     "text": [
      "2025-10-05 20:24:16 - root - ERROR: Error processing flare 71: too many values to unpack (expected 2)\n"
     ]
    },
    {
     "name": "stdout",
     "output_type": "stream",
     "text": [
      "True\n",
      "estimating flare location\n"
     ]
    },
    {
     "name": "stderr",
     "output_type": "stream",
     "text": [
      "2025-10-05 20:24:17 - root - ERROR: Error processing flare 72: too many values to unpack (expected 2)\n"
     ]
    },
    {
     "name": "stdout",
     "output_type": "stream",
     "text": [
      "False\n",
      "estimating flare location\n"
     ]
    },
    {
     "name": "stderr",
     "output_type": "stream",
     "text": [
      "2025-10-05 20:24:17 - root - ERROR: Error processing flare 73: too many values to unpack (expected 2)\n"
     ]
    },
    {
     "name": "stdout",
     "output_type": "stream",
     "text": [
      "False\n",
      "estimating flare location\n"
     ]
    },
    {
     "name": "stderr",
     "output_type": "stream",
     "text": [
      "2025-10-05 20:24:18 - root - ERROR: Error processing flare 74: too many values to unpack (expected 2)\n"
     ]
    },
    {
     "name": "stdout",
     "output_type": "stream",
     "text": [
      "False\n",
      "estimating flare location\n"
     ]
    },
    {
     "name": "stderr",
     "output_type": "stream",
     "text": [
      "2025-10-05 20:24:18 - root - ERROR: Error processing flare 75: too many values to unpack (expected 2)\n"
     ]
    },
    {
     "name": "stdout",
     "output_type": "stream",
     "text": [
      "False\n",
      "estimating flare location\n"
     ]
    },
    {
     "name": "stderr",
     "output_type": "stream",
     "text": [
      "2025-10-05 20:24:19 - root - ERROR: Error processing flare 76: too many values to unpack (expected 2)\n"
     ]
    },
    {
     "data": {
      "text/html": [
       "<div>\n",
       "<style scoped>\n",
       "    .dataframe tbody tr th:only-of-type {\n",
       "        vertical-align: middle;\n",
       "    }\n",
       "\n",
       "    .dataframe tbody tr th {\n",
       "        vertical-align: top;\n",
       "    }\n",
       "\n",
       "    .dataframe thead th {\n",
       "        text-align: right;\n",
       "    }\n",
       "</style>\n",
       "<table border=\"1\" class=\"dataframe\">\n",
       "  <thead>\n",
       "    <tr style=\"text-align: right;\">\n",
       "      <th></th>\n",
       "      <th>flare_id</th>\n",
       "      <th>duration</th>\n",
       "      <th>att_in</th>\n",
       "      <th>peak_UTC</th>\n",
       "      <th>LC0_BKG</th>\n",
       "      <th>_id</th>\n",
       "      <th>GOES_class</th>\n",
       "      <th>GOES_flux</th>\n",
       "      <th>goes_estimated_min_class</th>\n",
       "      <th>goes_estimated_max_class</th>\n",
       "      <th>...</th>\n",
       "      <th>LC4_BKG_COUNTS_4S</th>\n",
       "      <th>filenames</th>\n",
       "      <th>loc_x</th>\n",
       "      <th>loc_y</th>\n",
       "      <th>loc_x_stix</th>\n",
       "      <th>loc_y_stix</th>\n",
       "      <th>sidelobes_ratio</th>\n",
       "      <th>flare_id</th>\n",
       "      <th>error</th>\n",
       "      <th>attenuator</th>\n",
       "    </tr>\n",
       "  </thead>\n",
       "  <tbody>\n",
       "    <tr>\n",
       "      <th>0</th>\n",
       "      <td>2410010052</td>\n",
       "      <td>480</td>\n",
       "      <td>False</td>\n",
       "      <td>2024-10-01T00:52:30.581</td>\n",
       "      <td>575.136067</td>\n",
       "      <td>63239</td>\n",
       "      <td>M1.1</td>\n",
       "      <td>0.000011</td>\n",
       "      <td>C1</td>\n",
       "      <td>C3</td>\n",
       "      <td>...</td>\n",
       "      <td>303.0</td>\n",
       "      <td>test\\solo_L1_stix-sci-xray-cpd_20241001T000000...</td>\n",
       "      <td>NaN</td>\n",
       "      <td>NaN</td>\n",
       "      <td>NaN</td>\n",
       "      <td>NaN</td>\n",
       "      <td>NaN</td>\n",
       "      <td>2410010052</td>\n",
       "      <td>True</td>\n",
       "      <td>False</td>\n",
       "    </tr>\n",
       "  </tbody>\n",
       "</table>\n",
       "<p>1 rows × 37 columns</p>\n",
       "</div>"
      ],
      "text/plain": [
       "     flare_id  duration  att_in                 peak_UTC     LC0_BKG    _id  \\\n",
       "0  2410010052       480   False  2024-10-01T00:52:30.581  575.136067  63239   \n",
       "\n",
       "  GOES_class  GOES_flux goes_estimated_min_class goes_estimated_max_class  \\\n",
       "0       M1.1   0.000011                       C1                       C3   \n",
       "\n",
       "   ... LC4_BKG_COUNTS_4S                                          filenames  \\\n",
       "0  ...             303.0  test\\solo_L1_stix-sci-xray-cpd_20241001T000000...   \n",
       "\n",
       "   loc_x  loc_y loc_x_stix loc_y_stix sidelobes_ratio    flare_id  error  \\\n",
       "0    NaN    NaN        NaN        NaN             NaN  2410010052   True   \n",
       "\n",
       "   attenuator  \n",
       "0       False  \n",
       "\n",
       "[1 rows x 37 columns]"
      ]
     },
     "execution_count": 8,
     "metadata": {},
     "output_type": "execute_result"
    }
   ],
   "source": [
    "estimated_locations = estimate_flare_locations_and_attenuator(filtered_flare_list_with_files, save_csv=False);\n",
    "estimated_locations[:1]"
   ]
  },
  {
   "cell_type": "code",
   "execution_count": null,
   "id": "10e8440c",
   "metadata": {},
   "outputs": [],
   "source": [
    "filtered_flare_list_with_files.to_csv('filtered_flare_list_with_files.csv')"
   ]
  },
  {
   "cell_type": "code",
   "execution_count": null,
   "id": "e834711a",
   "metadata": {},
   "outputs": [
    {
     "name": "stdout",
     "output_type": "stream",
     "text": [
      "flarelist row:\n",
      " Unnamed: 0                                                                   0\n",
      "flare_id                                                            2410010052\n",
      "duration                                                                   480\n",
      "att_in                                                                   False\n",
      "peak_UTC                                               2024-10-01T00:52:30.581\n",
      "LC0_BKG                                                             575.136067\n",
      "_id                                                                      63239\n",
      "GOES_class                                                                M1.1\n",
      "GOES_flux                                                             0.000011\n",
      "goes_estimated_min_class                                                    C1\n",
      "goes_estimated_max_class                                                    C3\n",
      "goes_estimated_mean_class                                                   C2\n",
      "goes_estimated_min_flux                                              -5.881521\n",
      "goes_estimated_max_flux                                              -5.531084\n",
      "goes_estimated_mean_flux                                              -5.71266\n",
      "CFL_X_arcsec                                                               NaN\n",
      "CFL_Y_arcsec                                                               NaN\n",
      "start_UTC                                              2024-10-01T00:50:38.581\n",
      "end_UTC                                                2024-10-01T00:58:38.582\n",
      "LC0_PEAK_COUNTS_4S                                                       47103\n",
      "LC0_BKG_COUNTS_4S                                                        303.0\n",
      "LC1_PEAK_COUNTS_4S                                                        4863\n",
      "LC1_BKG_COUNTS_4S                                                         41.0\n",
      "LC2_PEAK_COUNTS_4S                                                         927\n",
      "LC2_BKG_COUNTS_4S                                                         49.0\n",
      "LC3_PEAK_COUNTS_4S                                                         735\n",
      "LC3_BKG_COUNTS_4S                                                        607.0\n",
      "LC4_PEAK_COUNTS_4S                                                         335\n",
      "LC4_BKG_COUNTS_4S                                                        303.0\n",
      "filenames                    test\\solo_L1_stix-sci-xray-cpd_20241001T000000...\n",
      "Name: 0, dtype: object\n",
      "cpd_sci: \n",
      "CompressedPixelData   <sunpy.time.timerange.TimeRange object at 0x1b9bbce2a50>\n",
      "    Start: 2024-10-01 00:00:00\n",
      "    End:   2024-10-01 06:00:01\n",
      "    Center:2024-10-01 03:00:00\n",
      "    Duration:0.25001504629629634 days or\n",
      "           6.000361111111112 hours or\n",
      "           360.0216666666667 minutes or\n",
      "           21601.300000000003 seconds\n",
      "    DetectorMasks\n",
      "    [0...355]: [0,1,2,3,4,5,6,7,8,9,10,11,12,13,14,15,16,17,18,19,20,21,22,23,24,25,26,27,28,29,30,31]\n",
      "\n",
      "    PixelMasks\n",
      "    [0...355]: [['1' '1' '1' '1' '1' '1' '1' '1' '0' '0' '0' '0']]\n",
      "\n",
      "    EnergyEdgeMasks\n",
      "    [0]: [_,1,2,3,4,5,6,7,8,9,10,11,12,13,14,15,16,17,18,_,_,_,_,_,_,_,_,_,_,_,_,_,_]\n",
      "\n",
      "False\n"
     ]
    },
    {
     "name": "stderr",
     "output_type": "stream",
     "text": [
      "2025-10-05 20:24:19 - root - ERROR: Error processing flare 0: too many values to unpack (expected 2)\n"
     ]
    },
    {
     "name": "stdout",
     "output_type": "stream",
     "text": [
      "flarelist row:\n",
      " Unnamed: 0                                                                   1\n",
      "flare_id                                                            2410010059\n",
      "duration                                                                   180\n",
      "att_in                                                                   False\n",
      "peak_UTC                                               2024-10-01T00:59:38.582\n",
      "LC0_BKG                                                             575.136067\n",
      "_id                                                                      63240\n",
      "GOES_class                                                                C9.4\n",
      "GOES_flux                                                             0.000009\n",
      "goes_estimated_min_class                                                    C1\n",
      "goes_estimated_max_class                                                    C2\n",
      "goes_estimated_mean_class                                                   C2\n",
      "goes_estimated_min_flux                                              -5.988063\n",
      "goes_estimated_max_flux                                               -5.65475\n",
      "goes_estimated_mean_flux                                             -5.827764\n",
      "CFL_X_arcsec                                                               NaN\n",
      "CFL_Y_arcsec                                                               NaN\n",
      "start_UTC                                              2024-10-01T00:59:06.582\n",
      "end_UTC                                                2024-10-01T01:02:06.582\n",
      "LC0_PEAK_COUNTS_4S                                                       29695\n",
      "LC0_BKG_COUNTS_4S                                                        303.0\n",
      "LC1_PEAK_COUNTS_4S                                                        2431\n",
      "LC1_BKG_COUNTS_4S                                                         41.0\n",
      "LC2_PEAK_COUNTS_4S                                                         215\n",
      "LC2_BKG_COUNTS_4S                                                         49.0\n",
      "LC3_PEAK_COUNTS_4S                                                         671\n",
      "LC3_BKG_COUNTS_4S                                                        607.0\n",
      "LC4_PEAK_COUNTS_4S                                                         335\n",
      "LC4_BKG_COUNTS_4S                                                        303.0\n",
      "filenames                    test\\solo_L1_stix-sci-xray-cpd_20241001T000000...\n",
      "Name: 1, dtype: object\n",
      "cpd_sci: \n",
      "CompressedPixelData   <sunpy.time.timerange.TimeRange object at 0x1b9b98ffc50>\n",
      "    Start: 2024-10-01 00:00:00\n",
      "    End:   2024-10-01 06:00:01\n",
      "    Center:2024-10-01 03:00:00\n",
      "    Duration:0.25001504629629634 days or\n",
      "           6.000361111111112 hours or\n",
      "           360.0216666666667 minutes or\n",
      "           21601.300000000003 seconds\n",
      "    DetectorMasks\n",
      "    [0...355]: [0,1,2,3,4,5,6,7,8,9,10,11,12,13,14,15,16,17,18,19,20,21,22,23,24,25,26,27,28,29,30,31]\n",
      "\n",
      "    PixelMasks\n",
      "    [0...355]: [['1' '1' '1' '1' '1' '1' '1' '1' '0' '0' '0' '0']]\n",
      "\n",
      "    EnergyEdgeMasks\n",
      "    [0]: [_,1,2,3,4,5,6,7,8,9,10,11,12,13,14,15,16,17,18,_,_,_,_,_,_,_,_,_,_,_,_,_,_]\n",
      "\n",
      "False\n"
     ]
    },
    {
     "name": "stderr",
     "output_type": "stream",
     "text": [
      "2025-10-05 20:24:19 - root - ERROR: Error processing flare 1: too many values to unpack (expected 2)\n"
     ]
    },
    {
     "ename": "AttributeError",
     "evalue": "'Series' object has no attribute 'append'",
     "output_type": "error",
     "traceback": [
      "\u001B[31m---------------------------------------------------------------------------\u001B[39m",
      "\u001B[31mValueError\u001B[39m                                Traceback (most recent call last)",
      "\u001B[36mCell\u001B[39m\u001B[36m \u001B[39m\u001B[32mIn[10]\u001B[39m\u001B[32m, line 29\u001B[39m\n\u001B[32m     28\u001B[39m  \u001B[38;5;66;03m# Estimate flare location\u001B[39;00m\n\u001B[32m---> \u001B[39m\u001B[32m29\u001B[39m flare_loc_stix, flare_loc, sidelobe = \u001B[43mstx_estimate_flare_location\u001B[49m\u001B[43m(\u001B[49m\u001B[43mcpd_file\u001B[49m\u001B[43m,\u001B[49m\u001B[43m \u001B[49m\u001B[43mtime_range\u001B[49m\u001B[43m,\u001B[49m\u001B[43m \u001B[49m\u001B[43menergy_range\u001B[49m\u001B[43m)\u001B[49m\n\u001B[32m     32\u001B[39m \u001B[38;5;66;03m# Store results\u001B[39;00m\n",
      "\u001B[36mFile \u001B[39m\u001B[32mc:\\Users\\Erhan\\ip5\\ip5 test\\..\\generate_flarelist_python\\stx_estimate_flare_location.py:67\u001B[39m, in \u001B[36mstx_estimate_flare_location\u001B[39m\u001B[34m(pixel_path, time_range, energy_range, plot)\u001B[39m\n\u001B[32m     66\u001B[39m \u001B[38;5;66;03m## change\u001B[39;00m\n\u001B[32m---> \u001B[39m\u001B[32m67\u001B[39m meta_pixels_sci, raw_meta_pixels_sci = create_raw_meta_pixels(cpd_sci, \n\u001B[32m     68\u001B[39m                                      time_range=time_range, \n\u001B[32m     69\u001B[39m                                      energy_range=energy_range, \n\u001B[32m     70\u001B[39m                                      flare_location=[\u001B[32m0\u001B[39m, \u001B[32m0\u001B[39m] * u.arcsec, \n\u001B[32m     71\u001B[39m                                      no_shadowing=\u001B[38;5;28;01mTrue\u001B[39;00m)\n\u001B[32m     73\u001B[39m \u001B[38;5;66;03m# create visibilities\u001B[39;00m\n",
      "\u001B[31mValueError\u001B[39m: too many values to unpack (expected 2)",
      "\nDuring handling of the above exception, another exception occurred:\n",
      "\u001B[31mAttributeError\u001B[39m                            Traceback (most recent call last)",
      "\u001B[32m~\\AppData\\Local\\Temp\\ipykernel_8276\\3273156350.py\u001B[39m in \u001B[36m?\u001B[39m\u001B[34m()\u001B[39m\n\u001B[32m     40\u001B[39m             results[\u001B[33m\"attenuator\"\u001B[39m].append(att)\n\u001B[32m     41\u001B[39m \n\u001B[32m     42\u001B[39m         \u001B[38;5;28;01mexcept\u001B[39;00m Exception \u001B[38;5;28;01mas\u001B[39;00m e:\n\u001B[32m     43\u001B[39m             logging.error(f\"Error processing flare {i}: {e}\")\n\u001B[32m---> \u001B[39m\u001B[32m44\u001B[39m             results[\u001B[33m\"loc_x\"\u001B[39m].append(np.nan)\n\u001B[32m     45\u001B[39m             results[\u001B[33m\"loc_y\"\u001B[39m].append(np.nan)\n\u001B[32m     46\u001B[39m             results[\u001B[33m\"loc_x_stix\"\u001B[39m].append(np.nan)\n\u001B[32m     47\u001B[39m             results[\u001B[33m\"loc_y_stix\"\u001B[39m].append(np.nan)\n",
      "\u001B[32mc:\\Users\\Erhan\\anaconda3\\envs\\ip5\\Lib\\site-packages\\pandas\\core\\generic.py\u001B[39m in \u001B[36m?\u001B[39m\u001B[34m(self, name)\u001B[39m\n\u001B[32m   6317\u001B[39m             \u001B[38;5;28;01mand\u001B[39;00m name \u001B[38;5;28;01mnot\u001B[39;00m \u001B[38;5;28;01min\u001B[39;00m self._accessors\n\u001B[32m   6318\u001B[39m             \u001B[38;5;28;01mand\u001B[39;00m self._info_axis._can_hold_identifiers_and_holds_name(name)\n\u001B[32m   6319\u001B[39m         ):\n\u001B[32m   6320\u001B[39m             \u001B[38;5;28;01mreturn\u001B[39;00m self[name]\n\u001B[32m-> \u001B[39m\u001B[32m6321\u001B[39m         \u001B[38;5;28;01mreturn\u001B[39;00m object.__getattribute__(self, name)\n",
      "\u001B[31mAttributeError\u001B[39m: 'Series' object has no attribute 'append'"
     ]
    }
   ],
   "source": [
    "flarelist = pd.read_csv('filtered_flare_list_with_files.csv')\n",
    "results = {\"loc_x\": [], \"loc_y\": [], \"loc_x_stix\": [], \"loc_y_stix\": [],\n",
    "               \"sidelobes_ratio\": [], \"flare_id\": [], \"error\": [], \"attenuator\": []}\n",
    "\n",
    "\n",
    "for i, row in flarelist.iterrows():\n",
    "        energy_range = [4, 16] * u.keV\n",
    "        print(f'flarelist row:\\n {row}')\n",
    "\n",
    "        # Define a 20s time range around peak time\n",
    "        tstart = parse_time(row[\"peak_UTC\"]) - 20 * u.s\n",
    "        tend = parse_time(row[\"peak_UTC\"]) + 20 * u.s\n",
    "        time_range = [tstart.strftime(\"%Y-%m-%dT%H:%M:%S\"), tend.strftime(\"%Y-%m-%dT%H:%M:%S\")]\n",
    "        cpd_file = row[\"filenames\"]\n",
    "        att = False  # Default value for attenuator\n",
    "\n",
    "        try:\n",
    "            cpd_sci = Product(cpd_file)\n",
    "            print(f'cpd_sci: \\n{cpd_sci}')\n",
    "\n",
    "            # Check for attenuator status by looking for any 'rcr' data points in the time range\n",
    "            # as the att_in column in the operational flarelist isnt working.\n",
    "            if np.any(cpd_sci.data[(cpd_sci.data[\"time\"] >= tstart) & (cpd_sci.data[\"time\"] <= tend)][\"rcr\"]):\n",
    "                att = True\n",
    "                energy_range = [4, 25] * u.keV\n",
    "            print(att)\n",
    "\n",
    "             # Estimate flare location\n",
    "            flare_loc_stix, flare_loc, sidelobe = stx_estimate_flare_location(cpd_file, time_range, energy_range)\n",
    "\n",
    "            \n",
    "            # Store results\n",
    "            results[\"loc_x\"].append(flare_loc.Tx.value)\n",
    "            results[\"loc_y\"].append(flare_loc.Ty.value)\n",
    "            results[\"loc_x_stix\"].append(flare_loc_stix.Tx.value)\n",
    "            results[\"loc_y_stix\"].append(flare_loc_stix.Ty.value)\n",
    "            results[\"sidelobes_ratio\"].append(sidelobe)\n",
    "            results[\"error\"].append(False)\n",
    "            results[\"flare_id\"].append(row[\"flare_id\"])\n",
    "            results[\"attenuator\"].append(att)\n",
    "\n",
    "        except Exception as e:\n",
    "            logging.error(f\"Error processing flare {i}: {e}\")\n",
    "            results[\"loc_x\"].append(np.nan)\n",
    "            results[\"loc_y\"].append(np.nan)\n",
    "            results[\"loc_x_stix\"].append(np.nan)\n",
    "            results[\"loc_y_stix\"].append(np.nan)\n",
    "            results[\"sidelobes_ratio\"].append(np.nan)\n",
    "            results[\"error\"].append(True)\n",
    "            results[\"flare_id\"].append(row[\"flare_id\"])\n",
    "            results[\"attenuator\"].append(att)\n",
    "            \n",
    "\n",
    "        results = pd.DataFrame(results)\n",
    "        flare_list_with_locations = pd.concat([filtered_flare_list_with_files.reset_index(drop=True), results], axis=1)\n",
    "        \n",
    "        times_flares = pd.to_datetime(flare_list_with_locations[\"peak_UTC\"])\n",
    "\n",
    "    \n",
    "\n",
    "# flare_list_with_locations[:1]\n",
    "\n",
    "        \n",
    "\n",
    "        \n"
   ]
  },
  {
   "cell_type": "code",
   "execution_count": null,
   "id": "b03c662c",
   "metadata": {},
   "outputs": [
    {
     "data": {
      "text/html": [
       "<div><i>QTable length=1</i>\n",
       "<table id=\"table2299358114352\" class=\"table-striped table-bordered table-condensed\">\n",
       "<thead><tr><th>time</th><th>timedel</th><th>rcr</th><th>pixel_masks</th><th>detector_masks</th><th>num_pixel_sets</th><th>triggers</th><th>triggers_comp_err</th><th>counts</th><th>counts_comp_err</th><th>control_index</th></tr></thead>\n",
       "<thead><tr><th></th><th>cs</th><th></th><th></th><th></th><th></th><th></th><th></th><th>ct</th><th>ct</th><th></th></tr></thead>\n",
       "<thead><tr><th>Time</th><th>uint32</th><th>uint8</th><th>uint8[12]</th><th>uint8[32]</th><th>uint8</th><th>uint32[16]</th><th>float32[16]</th><th>uint32[32,8,17]</th><th>float32[32,8,17]</th><th>uint8</th></tr></thead>\n",
       "<tr><td>2024-10-01T00:00:30.075</td><td>6000</td><td>1</td><td>1 .. 0</td><td>1 .. 1</td><td>8</td><td>38911 .. 34815</td><td>1182.4135 .. 1182.4135</td><td>42 .. 1</td><td>0.7071067690849304 .. 0.0</td><td>0</td></tr>\n",
       "</table></div>"
      ],
      "text/plain": [
       "<QTable length=1>\n",
       "          time          timedel ...      counts_comp_err      control_index\n",
       "                           cs   ...             ct                         \n",
       "          Time           uint32 ...      float32[32,8,17]         uint8    \n",
       "----------------------- ------- ... ------------------------- -------------\n",
       "2024-10-01T00:00:30.075    6000 ... 0.7071067690849304 .. 0.0             0"
      ]
     },
     "execution_count": 9,
     "metadata": {},
     "output_type": "execute_result"
    }
   ],
   "source": [
    "cpd_sci.data[:1]"
   ]
  },
  {
   "cell_type": "code",
   "execution_count": null,
   "id": "a7b38bba",
   "metadata": {},
   "outputs": [
    {
     "name": "stdout",
     "output_type": "stream",
     "text": [
      "detector_masks data: \n",
      " \t[[1 1 1 1 1 1 1 1 1 1 1 1 1 1 1 1 1 1 1 1 1 1 1 1 1 1 1 1 1 1 1 1]]\n"
     ]
    }
   ],
   "source": [
    "detector_masks_data = cpd_sci.data['detector_masks'][:1].data\n",
    "print(f'detector_masks data: \\n \\t{detector_masks_data}')"
   ]
  },
  {
   "cell_type": "code",
   "execution_count": null,
   "id": "ed7fd894",
   "metadata": {},
   "outputs": [
    {
     "name": "stdout",
     "output_type": "stream",
     "text": [
      "time: \n",
      " \t['2024-10-01T00:00:30.075']\n",
      "\n",
      "timedel: \n",
      " \t(1,) with example \t <memory at 0x000002175C8F5A80>\n",
      "\n",
      "rcr: \n",
      " \t(1,) with example \t [1]\n",
      "\n",
      "pixel_masks: \n",
      " \t(1, 12) with example \t [[1 1 1 1 1 1 1 1 0 0 0 0]]\n",
      "\n",
      "detector_masks: \n",
      " \t(1, 32) with example \t [[1 1 1 1 1 1 1 1 1 1 1 1 1 1 1 1 1 1 1 1 1 1 1 1 1 1 1 1 1 1 1 1]]\n",
      "\n",
      "num_pixel_sets: \n",
      " \t(1,) with example \t [8]\n",
      "\n",
      "triggers: \n",
      " \t(1, 16) with example \t [[38911 34815 27647 14847 31743 69631 34815 34815 34815 31743 34815 34815\n",
      "  13823 31743 31743 34815]]\n",
      "\n",
      "triggers_comp_err: \n",
      " \t(1, 16) with example \t [[1182.4135 1182.4135  591.2068  295.6036  591.2068 2364.8267 1182.4135\n",
      "  1182.4135 1182.4135  591.2068 1182.4135 1182.4135  295.6036  591.2068\n",
      "   591.2068 1182.4135]]\n",
      "\n",
      "counts: \n",
      " \t(1, 32, 8, 17) with example \t <memory at 0x000002175BDAB540>\n",
      "\n",
      "counts_comp_err: \n",
      " \t(1, 32, 8, 17) with example \t <memory at 0x000002175BCF2740>\n",
      "\n",
      "control_index: \n",
      " \t(1,) with example \t [0]\n",
      "\n"
     ]
    }
   ],
   "source": [
    "# Iterate through all columns and print the first row data\n",
    "for col_name in cpd_sci.data.colnames:\n",
    "    column = cpd_sci.data[col_name][:1]\n",
    "    \n",
    "    # Handle Time objects specifically\n",
    "    if col_name == 'time':\n",
    "        print(f'{col_name}: \\n \\t{column}')\n",
    "    else:\n",
    "        # For other columns, try to get the data\n",
    "        try:\n",
    "            column_data = column.data\n",
    "            print(f'{col_name}: \\n \\t{column_data.shape} with example \\t {column_data[:1]}')\n",
    "        except AttributeError:\n",
    "            # Fallback to just printing the column value\n",
    "            print(f'{col_name}: \\n \\t{column}')\n",
    "    \n",
    "    print()  # Add blank line for readability"
   ]
  },
  {
   "cell_type": "code",
   "execution_count": null,
   "id": "b178ab91",
   "metadata": {},
   "outputs": [
    {
     "data": {
      "text/plain": [
       "(1, 32, 8, 17)"
      ]
     },
     "execution_count": 12,
     "metadata": {},
     "output_type": "execute_result"
    }
   ],
   "source": [
    "cpd_sci.data['counts'][:1].shape"
   ]
  },
  {
   "cell_type": "code",
   "execution_count": null,
   "id": "96de2f74",
   "metadata": {},
   "outputs": [
    {
     "ename": "UnboundLocalError",
     "evalue": "cannot access local variable 'raw_counts' where it is not associated with a value",
     "output_type": "error",
     "traceback": [
      "\u001B[31m---------------------------------------------------------------------------\u001B[39m",
      "\u001B[31mUnboundLocalError\u001B[39m                         Traceback (most recent call last)",
      "\u001B[36mCell\u001B[39m\u001B[36m \u001B[39m\u001B[32mIn[13]\u001B[39m\u001B[32m, line 9\u001B[39m\n\u001B[32m      5\u001B[39m \u001B[38;5;28;01mfrom\u001B[39;00m\u001B[38;5;250m \u001B[39m\u001B[34;01mgenerate_flarelist_python\u001B[39;00m\u001B[34;01m.\u001B[39;00m\u001B[34;01mcreate_raw_meta_pixels\u001B[39;00m\u001B[38;5;250m \u001B[39m\u001B[38;5;28;01mimport\u001B[39;00m create_raw_meta_pixels\n\u001B[32m      7\u001B[39m \u001B[38;5;66;03m# just log the f out of it \u001B[39;00m\n\u001B[32m----> \u001B[39m\u001B[32m9\u001B[39m meta_pixels_sci, test = \u001B[43mcreate_raw_meta_pixels\u001B[49m\u001B[43m(\u001B[49m\u001B[43mcpd_sci\u001B[49m\u001B[43m,\u001B[49m\u001B[43m \u001B[49m\n\u001B[32m     10\u001B[39m \u001B[43m                                         \u001B[49m\u001B[43mtime_range\u001B[49m\u001B[43m=\u001B[49m\u001B[43mtime_range\u001B[49m\u001B[43m,\u001B[49m\u001B[43m \u001B[49m\n\u001B[32m     11\u001B[39m \u001B[43m                                         \u001B[49m\u001B[43menergy_range\u001B[49m\u001B[43m=\u001B[49m\u001B[43menergy_range\u001B[49m\u001B[43m,\u001B[49m\u001B[43m \u001B[49m\n\u001B[32m     12\u001B[39m \u001B[43m                                         \u001B[49m\u001B[43mflare_location\u001B[49m\u001B[43m=\u001B[49m\u001B[43m[\u001B[49m\u001B[32;43m0\u001B[39;49m\u001B[43m,\u001B[49m\u001B[43m \u001B[49m\u001B[32;43m0\u001B[39;49m\u001B[43m]\u001B[49m\u001B[43m \u001B[49m\u001B[43m*\u001B[49m\u001B[43m \u001B[49m\u001B[43mu\u001B[49m\u001B[43m.\u001B[49m\u001B[43marcsec\u001B[49m\u001B[43m,\u001B[49m\u001B[43m \u001B[49m\n\u001B[32m     13\u001B[39m \u001B[43m                                         \u001B[49m\u001B[43mno_shadowing\u001B[49m\u001B[43m=\u001B[49m\u001B[38;5;28;43;01mTrue\u001B[39;49;00m\u001B[43m)\u001B[49m\n\u001B[32m     15\u001B[39m     \u001B[38;5;66;03m# create visibilities\u001B[39;00m\n\u001B[32m     16\u001B[39m vis = create_visibility(meta_pixels_sci)\n",
      "\u001B[36mFile \u001B[39m\u001B[32mc:\\Users\\Erhan\\anaconda3\\envs\\ip5\\Lib\\site-packages\\astropy\\units\\decorators.py:316\u001B[39m, in \u001B[36mQuantityInput.__call__.<locals>.wrapper\u001B[39m\u001B[34m(*func_args, **func_kwargs)\u001B[39m\n\u001B[32m    314\u001B[39m \u001B[38;5;66;03m# Call the original function with any equivalencies in force.\u001B[39;00m\n\u001B[32m    315\u001B[39m \u001B[38;5;28;01mwith\u001B[39;00m equiv_context:\n\u001B[32m--> \u001B[39m\u001B[32m316\u001B[39m     return_ = \u001B[43mwrapped_function\u001B[49m\u001B[43m(\u001B[49m\u001B[43m*\u001B[49m\u001B[43mfunc_args\u001B[49m\u001B[43m,\u001B[49m\u001B[43m \u001B[49m\u001B[43m*\u001B[49m\u001B[43m*\u001B[49m\u001B[43mfunc_kwargs\u001B[49m\u001B[43m)\u001B[49m\n\u001B[32m    318\u001B[39m \u001B[38;5;66;03m# Return\u001B[39;00m\n\u001B[32m    319\u001B[39m ra = wrapped_signature.return_annotation\n",
      "\u001B[36mFile \u001B[39m\u001B[32mc:\\Users\\Erhan\\ip5\\ip5 test\\..\\generate_flarelist_python\\create_raw_meta_pixels.py:202\u001B[39m, in \u001B[36mcreate_raw_meta_pixels\u001B[39m\u001B[34m(pixel_data, time_range, energy_range, flare_location, pixels, no_shadowing, hack)\u001B[39m\n\u001B[32m    190\u001B[39m areas = pixel_areas[idx_pix].reshape(-\u001B[32m1\u001B[39m, \u001B[32m4\u001B[39m).sum(axis=\u001B[32m0\u001B[39m)\n\u001B[32m    192\u001B[39m meta_pixels = {\n\u001B[32m    193\u001B[39m     \u001B[33m\"\u001B[39m\u001B[33mabcd_rate_kev\u001B[39m\u001B[33m\"\u001B[39m: abcd_rate_kev,\n\u001B[32m    194\u001B[39m     \u001B[33m\"\u001B[39m\u001B[33mabcd_rate_kev_cm\u001B[39m\u001B[33m\"\u001B[39m: abcd_rate_kev / areas,\n\u001B[32m   (...)\u001B[39m\u001B[32m    199\u001B[39m     \u001B[33m\"\u001B[39m\u001B[33mareas\u001B[39m\u001B[33m\"\u001B[39m: areas,\n\u001B[32m    200\u001B[39m }\n\u001B[32m--> \u001B[39m\u001B[32m202\u001B[39m \u001B[38;5;28;01mreturn\u001B[39;00m meta_pixels, \u001B[43mraw_counts\u001B[49m\n",
      "\u001B[31mUnboundLocalError\u001B[39m: cannot access local variable 'raw_counts' where it is not associated with a value"
     ]
    }
   ],
   "source": [
    " ## change\n",
    "\n",
    "from stixpy.calibration.visibility import create_visibility, create_meta_pixels\n",
    "from astropy import units as u \n",
    "from generate_flarelist_python.get_raw_counts import create_raw_meta_pixels\n",
    "\n",
    "# just log the f out of it \n",
    "\n",
    "meta_pixels_sci = create_raw_meta_pixels(cpd_sci, \n",
    "                                         time_range=time_range, \n",
    "                                         energy_range=energy_range, \n",
    "                                         flare_location=[0, 0] * u.arcsec, \n",
    "                                         no_shadowing=True)\n",
    "\n",
    "    # create visibilities\n",
    "vis = create_visibility(meta_pixels_sci)\n",
    "meta_pixels_sci\n"
   ]
  },
  {
   "cell_type": "code",
   "execution_count": null,
   "id": "c2e1f373",
   "metadata": {},
   "outputs": [],
   "source": [
    "from stixpy.product import Product\n",
    "\n",
    "cpd = Product('test/solo_L1_stix-sci-xray-cpd_20230101T182150-20230101T224947_V02_2301011055-59299.fits')\n",
    "cpd"
   ]
  }
 ],
 "metadata": {
  "kernelspec": {
   "display_name": "ip5",
   "language": "python",
   "name": "python3"
  },
  "language_info": {
   "codemirror_mode": {
    "name": "ipython",
    "version": 3
   },
   "file_extension": ".py",
   "mimetype": "text/x-python",
   "name": "python",
   "nbconvert_exporter": "python",
   "pygments_lexer": "ipython3",
   "version": "3.12.11"
  }
 },
 "nbformat": 4,
 "nbformat_minor": 5
}
